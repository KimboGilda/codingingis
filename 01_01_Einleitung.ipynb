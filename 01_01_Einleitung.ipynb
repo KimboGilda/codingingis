{
 "cells": [
  {
   "cell_type": "markdown",
   "metadata": {},
   "source": [
    "# Einleitung\n",
    "\n",
    "!EIN PAAR WORTE ZUR HEUTIGEN ÜBUNG!"
   ]
  },
  {
   "cell_type": "markdown",
   "metadata": {},
   "source": [
    "## Übungsziele\n",
    "\n",
    "Ziele der heutigen Übung sind:\n",
    "- JupyterLabs aufstarten, kennenlernen und bei Bedarf personalisieren\n",
    "- Python kennen lernen, erste Interaktionen\n",
    "- Die wichtigsten Datentypen in Python kennen lernen (bool, text, integer, float, list, dictionary, dataframe)\n",
    "- Pandas DataFrames kennen lernen und einfache Manipulationen durchführen\n",
    "- Geodaten (Vektor) in Python kennenlernen\n",
    "- Geodaten in Python einfach visualisieren können\n"
   ]
  }
 ],
 "metadata": {
  "kernelspec": {
   "display_name": "Python 3",
   "language": "python",
   "name": "python3"
  },
  "language_info": {
   "codemirror_mode": {
    "name": "ipython",
    "version": 3
   },
   "file_extension": ".py",
   "mimetype": "text/x-python",
   "name": "python",
   "nbconvert_exporter": "python",
   "pygments_lexer": "ipython3",
   "version": "3.8.5"
  }
 },
 "nbformat": 4,
 "nbformat_minor": 4
}
