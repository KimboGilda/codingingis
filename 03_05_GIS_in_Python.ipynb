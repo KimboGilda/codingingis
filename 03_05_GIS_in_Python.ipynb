{
 "cells": [
  {
   "cell_type": "markdown",
   "metadata": {},
   "source": [
    "# Übung: GIS in Python\n",
    "\n",
    "Bis jetzt haben wir noch nicht mit eigentlich Geodaten gearbeitet. Die x / y Werte der Zeckenstiche repräsentatieren zwar Zeckenstiche in der Schweiz (sie sind also im Schweizer Koordinatensystem), dies ist aber nur uns bewusst (Python weiss davon nichts). Der Raumbezug fehlt noch, und den stellen wir an dieser Stelle her. Warum? Weil wir im nächsten Schritt unserer Todo Liste (s.u.) berechnen müssen, wie viele Zeckenstiche sich im Wald befinden. Das ist eine räumliche Abfrage, die sich ohne räumliche Objekte nicht bewerkstelligen lässt.\n",
    "\n",
    "\n",
    "- Schritt 1: Einen Einzelpunkt zufällig verschieben ✓\n",
    "- Schritt 2: Alle Punkte einer DataFrame zufällig verschieben (1 \"Run\") ✓\n",
    "- Schritt 3: Alle Punkte einer DataFrame mehrfach zufällig verschieben (z.B. 50 \"Runs\") ✓\n",
    "- **Schritt 4: Anteil der Punkte im Wald pro \"Run\" ermitteln**\n",
    "\n",
    "Um mit Geodaten in Python arbeiten zu können, müssen wir ein neues Modul importieren. Im Grunde genommen sind Vektordaten nicht mehr als Tabellen mit einer zusätzlichen \"Geometrie\"-Spalte. Dementsprechend müssen wir `pandas` nur ein bisschen erweitern um mit Vektordaten arbeiten zu können, und diese \"Geo\"-Erweiterung lautet: `geopandas`. \n",
    "\n",
    "[//]: # (How do we handle people working on the server vs. people working locally?)"
   ]
  },
  {
   "cell_type": "code",
   "execution_count": null,
   "metadata": {
    "tags": [
     "remove-cell"
    ]
   },
   "outputs": [],
   "source": [
    "%matplotlib inline "
   ]
  },
  {
   "cell_type": "code",
   "execution_count": 52,
   "metadata": {
    "tags": [
     "hide-cell"
    ]
   },
   "outputs": [],
   "source": [
    "# Vorbereitung der Arbeitsumgebung \n",
    "# (nur wenn ihr in einer neuen Session startet)\n",
    "\n",
    "import pandas as pd\n",
    "import random\n",
    "zeckenstiche = pd.read_csv(\"zeckenstiche.csv\")\n",
    "\n",
    "def offset_coordinate(old, distance = 1000):\n",
    "    new = old + random.normalvariate(0,distance)\n",
    "    return(new)\n",
    "\n",
    "monte_carlo = []\n",
    "for i in range(5):\n",
    "    zeckenstiche_sim = pd.DataFrame()\n",
    "\n",
    "    zeckenstiche_sim[\"ID\"] = zeckenstiche[\"ID\"]\n",
    "\n",
    "    zeckenstiche_sim[\"x\"] = zeckenstiche[\"x\"].apply(offset_coordinate)\n",
    "    zeckenstiche_sim[\"y\"] = zeckenstiche[\"y\"].apply(offset_coordinate)\n",
    "    zeckenstiche_sim[\"Run_Nr\"] = i\n",
    "    monte_carlo.append(zeckenstiche_sim)\n",
    "    \n",
    "monte_carlo_df = pd.concat(monte_carlo)"
   ]
  },
  {
   "cell_type": "markdown",
   "metadata": {},
   "source": [
    "## Übung 1: *DataFrame* zu *GeoDataFrame*"
   ]
  },
  {
   "cell_type": "markdown",
   "metadata": {},
   "source": [
    "Wie erwähnt sind die Zeckenstichdaten bisher lediglich als tabellarische Daten vorhanden. In ArcGIS Terminologie müssen wir die Operation \"[XY Table to Point](https://pro.arcgis.com/de/pro-app/tool-reference/data-management/xy-table-to-point.htm)\" durchführen. In Python heisst das: Wir wandeln eine *DataFrame* in eine *GeoDataFrame* um. Zuerst erstellen wir eine Geometrie-Spalte aus den xy-Koordinaten mit der Funktion `points_from_xy` aus dem Modul `geopandas`."
   ]
  },
  {
   "cell_type": "code",
   "execution_count": 54,
   "metadata": {},
   "outputs": [],
   "source": [
    "import geopandas as gpd\n",
    "\n",
    "\n",
    "monte_carlo_df[\"geometry\"] = gpd.points_from_xy(monte_carlo_df.x, monte_carlo_df.y)\n",
    "\n"
   ]
  },
  {
   "cell_type": "code",
   "execution_count": 55,
   "metadata": {},
   "outputs": [
    {
     "data": {
      "text/plain": [
       "pandas.core.frame.DataFrame"
      ]
     },
     "execution_count": 55,
     "metadata": {},
     "output_type": "execute_result"
    }
   ],
   "source": [
    "type(monte_carlo_df)"
   ]
  },
  {
   "cell_type": "markdown",
   "metadata": {},
   "source": [
    "Der Datensatz `monte_carlo_df` hat jetzt aber noch nicht begriffen, dass es jetzt eine *GeoDataFrame* ist. Dies müssen wir dem Objekt erst noch mitteilen:"
   ]
  },
  {
   "cell_type": "code",
   "execution_count": 56,
   "metadata": {},
   "outputs": [
    {
     "data": {
      "text/plain": [
       "geopandas.geodataframe.GeoDataFrame"
      ]
     },
     "execution_count": 56,
     "metadata": {},
     "output_type": "execute_result"
    }
   ],
   "source": [
    "monte_carlo_df = gpd.GeoDataFrame(monte_carlo_df)\n",
    "\n",
    "type(monte_carlo_df)"
   ]
  },
  {
   "cell_type": "markdown",
   "metadata": {},
   "source": [
    "Jetzt, wo zeckenstiche eine GeoDataFrame ist, gibt es einen einfachen weg die Punkte räumlich zu visualisieren:"
   ]
  },
  {
   "cell_type": "code",
   "execution_count": 60,
   "metadata": {},
   "outputs": [
    {
     "data": {
      "text/plain": [
       "<AxesSubplot:>"
      ]
     },
     "execution_count": 60,
     "metadata": {},
     "output_type": "execute_result"
    },
    {
     "data": {
      "image/png": "[encoded data removed]",
      "text/plain": [
       "<Figure size 432x288 with 1 Axes>"
      ]
     },
     "metadata": {
      "needs_background": "light"
     },
     "output_type": "display_data"
    }
   ],
   "source": [
    "monte_carlo_df.plot(column = \"ID\")"
   ]
  },
  {
   "cell_type": "markdown",
   "metadata": {},
   "source": [
    "## Übung 2: Koordinatensystem festlegen\n",
    "\n",
    "Wir wissen zwar, das unsere *GeoDataFrame* in Schweizer Landeskoordinaten (CH1903 LV95) zu verstehen ist, aber dies haben wir noch nirgends festgehalten. Das Koordinatensystem (Coordinate Reference System, CRS) können wir über das Attribut `crs` der *GeoDataFrame* festhalten. Das Koordinatensystem CH1903 LV95 hat den EPSG Code 2056, demnach muss das CRS folgendermassen festgelegt werden:\n"
   ]
  },
  {
   "cell_type": "code",
   "execution_count": 61,
   "metadata": {},
   "outputs": [],
   "source": [
    "monte_carlo_df = monte_carlo_df.set_crs(epsg = 2056)"
   ]
  },
  {
   "cell_type": "markdown",
   "metadata": {},
   "source": [
    "Nun ist das Koordinatensystem (*CRS*) als Attribut der *GeoDataFrame* gespeichert:"
   ]
  },
  {
   "cell_type": "code",
   "execution_count": 62,
   "metadata": {},
   "outputs": [
    {
     "data": {
      "text/plain": [
       "<Projected CRS: EPSG:2056>\n",
       "Name: CH1903+ / LV95\n",
       "Axis Info [cartesian]:\n",
       "- E[east]: Easting (metre)\n",
       "- N[north]: Northing (metre)\n",
       "Area of Use:\n",
       "- name: Europe - Liechtenstein and Switzerland\n",
       "- bounds: (5.96, 45.82, 10.49, 47.81)\n",
       "Coordinate Operation:\n",
       "- name: Swiss Oblique Mercator 1995\n",
       "- method: Hotine Oblique Mercator (variant B)\n",
       "Datum: CH1903+\n",
       "- Ellipsoid: Bessel 1841\n",
       "- Prime Meridian: Greenwich"
      ]
     },
     "execution_count": 62,
     "metadata": {},
     "output_type": "execute_result"
    }
   ],
   "source": [
    "monte_carlo_df.crs"
   ]
  },
  {
   "cell_type": "markdown",
   "metadata": {},
   "source": [
    "## Übung 3: Zeckenstiche als Shapefile exportieren\n",
    "\n",
    "Zum Schluss exportieren wir unser Datensatz in ein Shapefile, damit wir das nächste Mal direkt mit einer *GeoDataFrame* arbeiten können. Genau wie wir in einer vorherigen Übung eine pandas DataFrame mit `.to_csv` in eine csv exportiert haben, gibt es für GeoDataFrames die Methode `.to_file`. Exportiere zeckenstiche mit dieser Methode in eine Shapefile."
   ]
  },
  {
   "cell_type": "code",
   "execution_count": 63,
   "metadata": {
    "tags": [
     "remove-cell"
    ]
   },
   "outputs": [],
   "source": [
    "# Musterlösung\n",
    "\n",
    "monte_carlo_df.to_file(\"monte_carlo_df.shp\")"
   ]
  },
  {
   "cell_type": "markdown",
   "metadata": {},
   "source": [
    "## Übung 4 (Optional): Export als Geopackage\n",
    "\n",
    "Shapefiles sind ein ganz schreckliches Format (siehe [switchfromshapefile.org](http://switchfromshapefile.org/)). Viel praktischer sind an dieser Stelel zum Beispiel *Geopackages*. Ihr könnt `monte_carlo_df` auch mit folgender Codezeile als *Geopackage* exportieren."
   ]
  },
  {
   "cell_type": "code",
   "execution_count": 64,
   "metadata": {},
   "outputs": [],
   "source": [
    "monte_carlo_df.to_file(\"monte_carlo_df.gpkg\", layer = \"monte_carlo_simulation\",driver = \"GPKG\")"
   ]
  }
 ],
 "metadata": {
  "kernelspec": {
   "display_name": "Python 3",
   "language": "python",
   "name": "python3"
  },
  "language_info": {
   "codemirror_mode": {
    "name": "ipython",
    "version": 3
   },
   "file_extension": ".py",
   "mimetype": "text/x-python",
   "name": "python",
   "nbconvert_exporter": "python",
   "pygments_lexer": "ipython3",
   "version": "3.7.8"
  }
 },
 "nbformat": 4,
 "nbformat_minor": 4
}
