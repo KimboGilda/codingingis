{
 "cells": [
  {
   "cell_type": "markdown",
   "metadata": {},
   "source": [
    "# ☞ Python Modules"
   ]
  },
  {
   "cell_type": "markdown",
   "metadata": {},
   "source": [
    "Ähnlich wie R basiert Python auf Erweiterungen: Diese Erweiterungen heissen in R *Libraries* oder *Packages*, in Python werden sie *Modules* genannt. Sie sind dazu da, gewisse Teilbereiche unseres Arbeitsprozesses zu vereinfachen. Eine Analogie dazu: Um ein Haus zu bauen sind wir auf verschiedene Spezialisten / Spezialistinnen angewiesen: Wir brauchen zum Beispiel eine Malerin oder einen Maler. Im Telefonbuch sind seitenweise Maler\\*innen aufgelistet, und jede\\*r arbeitet etwas anders. Um eine spezifische Malerin anzuheuern müssen wir zuerst den Kontakt herstellen und die Vertragsmodalitäten vereinbaren. Erst dann können wir sie in unseren Arbeitsprozess (Haus bauen) einbinden. Um diese Analogie auf unser Projekt zu übertragen: Das \"Haus bauen\" ist unser Forschungsprojekt (z.B. eine Bachelorarbeit). Ein \"Telefonbuch\", wo die Spezialisten erfasst sind nennt ein *Reposoritory*.\n",
    "\n",
    "\n",
    "## Erweiterung installieren\n",
    "\n",
    "Den Erstkontakt mit der Malerin zu erstellen und die Vertragsmodalitäten zu vereinbaren bedeutet, die Erweiterung zu installieren. In R ist die Installation einer *Library* ein R-Befehl und wird innerhalb von R ausgeführt. In Python ist dies leider etwas komplizierter, es braucht für die Installation einer Python library eine Zusatzsoftware. Diese lernen wir zu einem späteren Zeitpunkt kennen, schauen wir uns jetzt nur mal den R-Code zur Installation eines Packages an:\n",
    "\n",
    "````{list-table}\n",
    "---\n",
    "header-rows: 1\n",
    "---\n",
    "* - R\n",
    "  - python\n",
    "* - ```r \n",
    "    install.packages(\"malerinWanger\")\n",
    "    ``` \n",
    "  - ```python\n",
    "    # Module können nicht innerhalb \n",
    "    # von Python installiert werden\n",
    "    ```\n",
    "````\n",
    "\n",
    "In diesem Beispiel heisst die Erweiterung `malerinWanger`. Das *Reposoritory* geben wir in R meistens nicht an, weil in RStudio bereits eine Default-Adresse hinterlegt ist. \n",
    "\n",
    "## Erweiterung laden\n",
    "\n",
    "Treiben wir an dieser Stelle die Analogie etwas weiter: Der Erstkontakt mit der Malerin ist also erstellt und alle Vertragsmodalitäten sind vereinbart. Nun wollen wir an einem bestimmten Tag mit ihr arbeiten. Dafür müssen wir sie zuerst auf die Baustelle bestellen. Übersetzt auf Programmieren bedeutet dies, wir müssen die Erweiterung in unsere Session laden. In R und Python sehen die Befehle folgendermassen aus:\n",
    "\n",
    "````{list-table}\n",
    "---\n",
    "header-rows: 1\n",
    "---\n",
    "* - R\n",
    "  - python\n",
    "* - ```r\n",
    "    library(malerlinWanger)\n",
    "    ```\n",
    "  - ```python\n",
    "    import malerinWanger\n",
    "    ```\n",
    "````\n",
    "\n",
    "## Erweiterung verwenden\n",
    "\n",
    "Erst jetzt können wir mit der Erweiterung arbeiten und die Fachexpertise unserer Malerin nutzen. Eine Expertise unserer Malerin ist es, Wände zu bemalen. Dafür gibt es eine *Function* `wand_bemalen()`. In R kann ich diese *Function* \"einfach so\" aufrufen. In Python hingegen muss ich die Erweiterung, in der die *Function* enthalten ist, der *Function* mit einem Punkt voranstellen. Das sieht also folgendermassen aus:\n",
    "\n",
    "````{list-table}\n",
    "---\n",
    "header-rows: 1\n",
    "---\n",
    "* - R\n",
    "  - python\n",
    "* - ```r\n",
    "    wand_bemalen()\n",
    "    ```\n",
    "  - ```python\n",
    "    malerinWanger.wand_bemalen()\n",
    "    ```\n",
    "````\n",
    "\n",
    "Das ist zwar umständlicher, aber dafür weniger Fehleranfällig. Angenommen, unser Maurer kann ebenfalls Wände bemalen und hat die entsprechende *Function* `wand_bemalen()` ebenfalls. Dann ist in R nicht klar, welche Erweiterung gemeint ist und das kann zu Missverständnissen führen (vielleicht bemalt der Mauerer die Wände etwas anders als die Malerin). In Python ist im obigen Beispiel unmissverständlich, dass ich `wand_bemalen()` aus dem Modul `malerinWanger` meine."
   ]
  },
  {
   "cell_type": "markdown",
   "metadata": {},
   "source": [
    "## Modul mit Alias importieren\n",
    "\n",
    "Da es umständlich sein kann, jedesmal `malerinWanger.wand_bemalen()` voll auszuschreiben, können wir beim Importieren dem Modul auch einen \"Alias\" vergeben. Dies kann beispielsweise folgendermassen aussehen:\n",
    "\n",
    "```python\n",
    "import malerinWanger as mm\n",
    "mm.wand_bemalen()\n",
    "```\n",
    "\n",
    "Dies ist deshalb wichtig, weil sich für viele Module haben sich bestimmte Aliasse eingebürgert haben. Ihr macht sich das Leben leichter, wenn ihr euch an diese Konventionen (welche ihr noch kennenlernen werdet) hält."
   ]
  },
  {
   "cell_type": "markdown",
   "metadata": {},
   "source": [
    "## Einzelne *Function* importieren\n",
    "\n",
    "Es gibt noch die Variante, eine explizite *Function* aus einem Modul zu laden. Wenn man dies macht, kann man die Funktion ohne vorangestelltes Modul nutzen (genau wie in R). Dies sieht folgendermassen aus:\n",
    "\n",
    "```python\n",
    "from malerinWanger import wand_bemalen\n",
    "wand_bemalen()\n",
    "```"
   ]
  },
  {
   "cell_type": "markdown",
   "metadata": {},
   "source": [
    "## Alle *Functions* importieren\n",
    "\n",
    "Zusätzlich ist es möglich, **alle** *Functions* aus einem Modul zu importieren. Diese Notation wird nicht empfohlen und ist hier nur erwähnt, weil ihr allenfalls diese Schreibweise antreffen werdet. \n",
    "\n",
    "```python\n",
    "from malerinWanger import *\n",
    "wand_bemalen()\n",
    "```"
   ]
  },
  {
   "cell_type": "markdown",
   "metadata": {},
   "source": [
    "```{admonition} Das wichtigste in Kürze\n",
    ":class: attention\n",
    "- Erweiterungen heissen in Python *Modules*\n",
    "- Vor der erstmaligen Nutzung muss ein *Module* installiert werden\n",
    "- Vor der Verwendung in einer Session muss ein *Module* importiert werden\n",
    "- Ein *Module* wird in Python mit `import modulename` geladen\n",
    "- Module müssen für **jede Session** importiert werden!\n",
    "- Eine *Function* aus einem *Module* wird folgendermassen aufgerufen: `modulname.function()`\n",
    "- Ein Modul kann auch mit einem Alias importiert werden `import modul as modulalias`\n",
    "- Eine Einzelne *Function* kann aus einem Modul explizit importiert werden: `from malerinWanger import wand_bemalen`\n",
    "- Mit einem Platzhaltersymbol \\* können auch alle *Functions* aus einem Modul importiert werden: `from malerinWanger import *`\n",
    "```"
   ]
  }
 ],
 "metadata": {
  "kernelspec": {
   "display_name": "Python 3",
   "language": "python",
   "name": "python3"
  },
  "language_info": {
   "codemirror_mode": {
    "name": "ipython",
    "version": 3
   },
   "file_extension": ".py",
   "mimetype": "text/x-python",
   "name": "python",
   "nbconvert_exporter": "python",
   "pygments_lexer": "ipython3",
   "version": "3.7.8"
  }
 },
 "nbformat": 4,
 "nbformat_minor": 4
}
