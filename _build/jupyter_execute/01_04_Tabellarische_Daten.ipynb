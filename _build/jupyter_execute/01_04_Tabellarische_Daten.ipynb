{
 "cells": [
  {
   "cell_type": "markdown",
   "metadata": {},
   "source": [
    "# Tabellarische Daten\n",
    "\n",
    "Schauen wir uns nochmals die *Dictionary* `people` an. Diese ist ein Spezialfall einer Dictionary: Jeder Eintrag besteht aus einer Liste von gleich vielen Werten. Diese Dictionary schreit förmlich danach, tabellarisch dargestellt zu werden. Dies wollen wir gewähren und brauchen dafür das Modul `pandas`. Importiere das Modul mit dem Alias `pd`.\n",
    "\n",
    "!! ACHTUNG: HIER FEHLT NOCH DIE EINFÜHRUNG INSTALLATION VON MODULEN !!"
   ]
  },
  {
   "cell_type": "markdown",
   "metadata": {},
   "source": [
    "## Übung 1: von einer *Dictionary* zu einer *DataFrame*\n",
    "\n",
    "Wandle die Dictionary `people` in eine DataFrame um: Dazu musst du `people` als Argument der Funktion `DataFrame` übergeben: `pd.DataFrame(people)`. Weise den Output der Variable `people_df` zu. \n",
    "\n",
    "**Für R Nutzer**: Auch in R gibt es *Dataframes*, diese sind aber in Base R integriert (brauchen deswegen keine Erweiterung wie `pandas`)"
   ]
  },
  {
   "cell_type": "code",
   "execution_count": 1,
   "metadata": {
    "tags": [
     "remove-cell"
    ]
   },
   "outputs": [],
   "source": [
    "people = {\"vornamen\": [\"Christopher\", \"Henning\", \"Severin\"], \"nachnamen\": [\"Annen\",\"May\", \"Kantereit\"], \"groessen\": [174, 182, 162]}"
   ]
  },
  {
   "cell_type": "markdown",
   "metadata": {
    "tags": [
     "remove-cell"
    ]
   },
   "source": [
    "! Ab hier wird pandas benötigt !"
   ]
  },
  {
   "cell_type": "code",
   "execution_count": 2,
   "metadata": {
    "tags": [
     "remove-input"
    ]
   },
   "outputs": [],
   "source": [
    "import pandas as pd\n",
    "\n",
    "people_df = pd.DataFrame(people)"
   ]
  },
  {
   "cell_type": "markdown",
   "metadata": {},
   "source": [
    "## Übung 2: *DataFrame* in csv umwandeln"
   ]
  },
  {
   "cell_type": "markdown",
   "metadata": {},
   "source": [
    "In der Praxis kommen Tabellarische Daten meist als «csv» Dateien daher. Wir können aus unserer eben erstellten DataFrame sehr einfach eine csv Datei erstellen. Führe das mit folgendem Code aus:"
   ]
  },
  {
   "cell_type": "code",
   "execution_count": 3,
   "metadata": {},
   "outputs": [],
   "source": [
    "people_df.to_csv(\"people.csv\")"
   ]
  },
  {
   "cell_type": "markdown",
   "metadata": {},
   "source": [
    "## Übung 3: CSV als *DataFrame* importieren\n",
    "\n",
    "Genau so einfach ist es eine csv zu importieren. Lade dazu die Datei \"zeckenstiche.csv\" von Moodle herunter und speichere es im aktuellen Arbeitsverzeichnis ab. Importiere mit folgendem Code die Datei \"zeckenstiche.csv\". Schau dir `zeckenstiche` nach dem importieren an."
   ]
  },
  {
   "cell_type": "code",
   "execution_count": 4,
   "metadata": {},
   "outputs": [],
   "source": [
    "zeckenstiche = pd.read_csv(\"zeckenstiche.csv\")"
   ]
  },
  {
   "cell_type": "markdown",
   "metadata": {},
   "source": [
    "**Hinweis**: Dieser Code funktioniert nur, wenn \"zeckenstiche.csv\" im aktuellen Arbeitsverzeichnis (*Current Working Directory*) abgespeichert wird. Wenn du nicht sicher bist, wo dein aktuelles Arbeitsverzeichnis liegt, kannst du das Modul `os` laden und dies mit der Funktion `os.getcwd()` (get **c**urrent**w**orking**d**irectory) herausfinden."
   ]
  },
  {
   "cell_type": "code",
   "execution_count": 5,
   "metadata": {
    "tags": [
     "hide-cell"
    ]
   },
   "outputs": [
    {
     "data": {
      "text/plain": [
       "'/home/rata/codingingis_book'"
      ]
     },
     "execution_count": 5,
     "metadata": {},
     "output_type": "execute_result"
    }
   ],
   "source": [
    "import os\n",
    "\n",
    "os.getcwd()"
   ]
  },
  {
   "cell_type": "markdown",
   "metadata": {},
   "source": [
    "## Übung 4: Koordinaten räumlich darstellen\n",
    "\n",
    "Die *DataFrame* `zeckenstiche` beinhaltet x und y Koordinaten für jeden Unfall in den gleichnamigen Spalten. Wir können die Stiche mit einem Scatterplot räumlich visualisieren. Führe dazu folgenden Code aus:\n"
   ]
  },
  {
   "cell_type": "markdown",
   "metadata": {
    "tags": [
     "remove-cell"
    ]
   },
   "source": [
    "! Ab hier wird matplotlib benötigt !"
   ]
  },
  {
   "cell_type": "code",
   "execution_count": 6,
   "metadata": {},
   "outputs": [
    {
     "data": {
      "text/plain": [
       "<AxesSubplot:xlabel='x', ylabel='y'>"
      ]
     },
     "execution_count": 6,
     "metadata": {},
     "output_type": "execute_result"
    }
   ],
   "source": [
    "zeckenstiche.plot.scatter(\"x\",\"y\")"
   ]
  },
  {
   "cell_type": "markdown",
   "metadata": {},
   "source": [
    "## Übung 5: Einzelne Spalte selektieren\n",
    "\n",
    "Um eine einzelne Spalte zu selektieren (z.B. die Spalte \"ID\") kann man gleich vorgehen wie bei der Selektion eines Eintrage in einer *Dictionary*. Probiere es aus."
   ]
  },
  {
   "cell_type": "code",
   "execution_count": 7,
   "metadata": {
    "tags": [
     "hide-cell"
    ]
   },
   "outputs": [
    {
     "data": {
      "text/plain": [
       "0          0\n",
       "1          1\n",
       "2          2\n",
       "3          3\n",
       "4          4\n",
       "        ... \n",
       "1071    1071\n",
       "1072    1072\n",
       "1073    1073\n",
       "1074    1074\n",
       "1075    1075\n",
       "Name: ID, Length: 1076, dtype: int64"
      ]
     },
     "execution_count": 7,
     "metadata": {},
     "output_type": "execute_result"
    }
   ],
   "source": [
    "zeckenstiche[\"ID\"]"
   ]
  },
  {
   "cell_type": "markdown",
   "metadata": {},
   "source": [
    "## Übung 6: Neue Spalte erstellen\n",
    "\n",
    "Auch das Erstellen einer neuen Spalte ist identisch mit der Erstellung eines neuen *Dictionary* Eintrags. Folgende Zeile erstellt eine neue Spalte \"Stichtyp\" mit dem gleichen Wert in allen Zeilen (\"Zecke\"). Erstelle ebenfalls eine solche Spalte.\n"
   ]
  },
  {
   "cell_type": "code",
   "execution_count": 8,
   "metadata": {},
   "outputs": [
    {
     "data": {
      "text/html": [
       "<div>\n",
       "<style scoped>\n",
       "    .dataframe tbody tr th:only-of-type {\n",
       "        vertical-align: middle;\n",
       "    }\n",
       "\n",
       "    .dataframe tbody tr th {\n",
       "        vertical-align: top;\n",
       "    }\n",
       "\n",
       "    .dataframe thead th {\n",
       "        text-align: right;\n",
       "    }\n",
       "</style>\n",
       "<table border=\"1\" class=\"dataframe\">\n",
       "  <thead>\n",
       "    <tr style=\"text-align: right;\">\n",
       "      <th></th>\n",
       "      <th>ID</th>\n",
       "      <th>accuracy</th>\n",
       "      <th>x</th>\n",
       "      <th>y</th>\n",
       "      <th>Stichtyp</th>\n",
       "    </tr>\n",
       "  </thead>\n",
       "  <tbody>\n",
       "    <tr>\n",
       "      <th>0</th>\n",
       "      <td>0</td>\n",
       "      <td>65.617154</td>\n",
       "      <td>2678971.0</td>\n",
       "      <td>1240824.0</td>\n",
       "      <td>Zecke</td>\n",
       "    </tr>\n",
       "    <tr>\n",
       "      <th>1</th>\n",
       "      <td>1</td>\n",
       "      <td>257.492052</td>\n",
       "      <td>2679837.0</td>\n",
       "      <td>1240858.0</td>\n",
       "      <td>Zecke</td>\n",
       "    </tr>\n",
       "    <tr>\n",
       "      <th>2</th>\n",
       "      <td>2</td>\n",
       "      <td>163.533834</td>\n",
       "      <td>2687539.0</td>\n",
       "      <td>1240881.0</td>\n",
       "      <td>Zecke</td>\n",
       "    </tr>\n",
       "    <tr>\n",
       "      <th>3</th>\n",
       "      <td>3</td>\n",
       "      <td>185.000000</td>\n",
       "      <td>2674848.0</td>\n",
       "      <td>1240913.0</td>\n",
       "      <td>Zecke</td>\n",
       "    </tr>\n",
       "    <tr>\n",
       "      <th>4</th>\n",
       "      <td>4</td>\n",
       "      <td>228.215231</td>\n",
       "      <td>2681771.0</td>\n",
       "      <td>1240922.0</td>\n",
       "      <td>Zecke</td>\n",
       "    </tr>\n",
       "    <tr>\n",
       "      <th>...</th>\n",
       "      <td>...</td>\n",
       "      <td>...</td>\n",
       "      <td>...</td>\n",
       "      <td>...</td>\n",
       "      <td>...</td>\n",
       "    </tr>\n",
       "    <tr>\n",
       "      <th>1071</th>\n",
       "      <td>1071</td>\n",
       "      <td>109.531946</td>\n",
       "      <td>2678005.0</td>\n",
       "      <td>1257344.0</td>\n",
       "      <td>Zecke</td>\n",
       "    </tr>\n",
       "    <tr>\n",
       "      <th>1072</th>\n",
       "      <td>1072</td>\n",
       "      <td>100.489274</td>\n",
       "      <td>2678005.0</td>\n",
       "      <td>1257347.0</td>\n",
       "      <td>Zecke</td>\n",
       "    </tr>\n",
       "    <tr>\n",
       "      <th>1073</th>\n",
       "      <td>1073</td>\n",
       "      <td>301.748529</td>\n",
       "      <td>2689893.0</td>\n",
       "      <td>1257351.0</td>\n",
       "      <td>Zecke</td>\n",
       "    </tr>\n",
       "    <tr>\n",
       "      <th>1074</th>\n",
       "      <td>1074</td>\n",
       "      <td>301.748542</td>\n",
       "      <td>2690668.0</td>\n",
       "      <td>1257369.0</td>\n",
       "      <td>Zecke</td>\n",
       "    </tr>\n",
       "    <tr>\n",
       "      <th>1075</th>\n",
       "      <td>1075</td>\n",
       "      <td>226.000000</td>\n",
       "      <td>2682852.0</td>\n",
       "      <td>1257531.0</td>\n",
       "      <td>Zecke</td>\n",
       "    </tr>\n",
       "  </tbody>\n",
       "</table>\n",
       "<p>1076 rows × 5 columns</p>\n",
       "</div>"
      ],
      "text/plain": [
       "        ID    accuracy          x          y Stichtyp\n",
       "0        0   65.617154  2678971.0  1240824.0    Zecke\n",
       "1        1  257.492052  2679837.0  1240858.0    Zecke\n",
       "2        2  163.533834  2687539.0  1240881.0    Zecke\n",
       "3        3  185.000000  2674848.0  1240913.0    Zecke\n",
       "4        4  228.215231  2681771.0  1240922.0    Zecke\n",
       "...    ...         ...        ...        ...      ...\n",
       "1071  1071  109.531946  2678005.0  1257344.0    Zecke\n",
       "1072  1072  100.489274  2678005.0  1257347.0    Zecke\n",
       "1073  1073  301.748529  2689893.0  1257351.0    Zecke\n",
       "1074  1074  301.748542  2690668.0  1257369.0    Zecke\n",
       "1075  1075  226.000000  2682852.0  1257531.0    Zecke\n",
       "\n",
       "[1076 rows x 5 columns]"
      ]
     },
     "execution_count": 8,
     "metadata": {},
     "output_type": "execute_result"
    }
   ],
   "source": [
    "zeckenstiche[\"Stichtyp\"] = \"Zecke\"\n",
    "\n",
    "zeckenstiche"
   ]
  }
 ],
 "metadata": {
  "kernelspec": {
   "display_name": "Python 3",
   "language": "python",
   "name": "python3"
  },
  "language_info": {
   "codemirror_mode": {
    "name": "ipython",
    "version": 3
   },
   "file_extension": ".py",
   "mimetype": "text/x-python",
   "name": "python",
   "nbconvert_exporter": "python",
   "pygments_lexer": "ipython3",
   "version": "3.7.8"
  }
 },
 "nbformat": 4,
 "nbformat_minor": 4
}