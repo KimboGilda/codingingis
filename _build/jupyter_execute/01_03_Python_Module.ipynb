{
 "cells": [
  {
   "cell_type": "markdown",
   "metadata": {},
   "source": [
    "# Python Modules"
   ]
  },
  {
   "cell_type": "markdown",
   "metadata": {},
   "source": [
    "Ähnlich wie R basiert Python auf Erweiterungen: Diese Erweiterungen heissen in R *Libraries* / *Packages*, in Python werden sie *Modules* genannt. Sie sind dazu da, gewisse Teilbereiche unseres Arbeitsprozesses zu vereinfachen. Eine Analogie dazu: Um ein Haus zu bauen sind wir auf verschiedene Spezialisten / Spezialistinnen angewiesen: Wir brauchen zum Beispiel eine Malerin oder einen Maler. Im Telfonbuch sind seitenweise Maler\\*innen aufgelistet, und jede\\*r arbeitet etwas anders. Um eine spezifische Malerin anzuheuern müssen wir zuerst den Kontakt herstellen und die Vertragsmodalitäten vereinbaren. Erst dann können wir sie in unseren Arbeitsprozess (Haus bauen) einbinden.\n",
    "\n",
    "Um diese Analogie auf unser Projekt zu übertragen: Das \"Haus bauen\" ist unser Forschungsprojekt (z.B. eine Bachelorarbeit). Ein \"Telefonbuch\", wo die Spezialisten erfasst sind nennt ein *Reposoritory*. Den Erstkontakt mit der Malerin zu erstellen und die Vertragsmodalitäten zu vereinbaren bedeutet, die Erweiterung zu installieren. In R wird eine Erweiterung folgendermassen installiert:\n",
    "\n",
    "```\n",
    "install.packages(\"malerinMina\")\n",
    "```\n",
    "In diesem Beispiel heisst die Erweiterung `malerinMina`. Das *Reposoritory* geben wir in R oft nicht an, weil in RStudio typischerweise schon eine Adresse hinterlegt ist. Wie wir in Python ein Modul installieren lernen wir später. Nehmen wir an dieser Stelle an, wir haben die Erweiterung `malerinMina` in Python installiert. Treiben wir an dieser Stelle die Analogie etwas weiter: Der Erstkontakt mit der Kleptnerin ist also erstellt und alle Vertragsmodalitäten sind vereinbart. Nun wollen wir an einem bestimmten Tag mit ihr arbeiten. Dafür müssen wir sie zuerst auf die Baustelle bestellen. Übersetzt auf programmieren bedeutet dies, wir müssen die Erweiterung in unsere Session laden. In R sieht der Befehl so aus:\n",
    "\n",
    "```\n",
    "library(malerinMina)\n",
    "```\n",
    "\n",
    "In Python lautet der entsprechende Befehl:\n",
    "\n",
    "```\n",
    "import malerinMina\n",
    "```\n",
    "\n",
    "Erst jetzt können wir mit der Erweiterung arbeiten und die Fachexpertise unserer Malerin nutzen. Eine Expertise unserer Malerin ist es, Wände zu bemalen. Dafür gibt es eine *Function* `wand_bemalen()`. In R kann ich diese *Function* \"einfach so\" aufrufen:\n",
    "\n",
    "```\n",
    "wand_bemalen()\n",
    "```\n",
    "\n",
    "In Python hingegen muss ich die Erweiterung, in der die *Function* enthalten ist, der *Function* mit einem Punkt voranstellen. Das sieht also folgendermassen aus:\n",
    "\n",
    "```\n",
    "malerinMina.wand_bemalen()\n",
    "```\n",
    "\n",
    "Das ist zwar umständlicher, aber dafür weniger Fehleranfällig. Angenommen, unser Maurer kann ebenfalls Wände bemalen und hat die entsprechende *Function* `wand_bemalen()` ebenfalls. Dann ist in R nicht klar, welche Erweiterung gemeint ist und das kann zu Missverständnissen führen (vielleicht bemalt der Mauerer die Wände etwas anders als die Malerin). In Python ist im obigen Beispiel unmissverständlich, dass ich `wand_bemalen()` aus dem Modul `malerinMina` meine.\n",
    "\n",
    "**Das wichtigste in Kürze**\n",
    "- Erweiterungen heissen in Python *Modules*\n",
    "- Vor der erstmaligen Nutzung muss ein *Module* installiert werden\n",
    "- Vor der Verwendung in einer Session muss ein *Module* \"geladen\" werden. Dies muss für jede Session wiederholt werden!\n",
    "- Ein *Module* wird in Python mit `import modulename` geladen\n",
    "- Eine *Function* aus einem *Module* wird folgendermassen aufgerufen: `modulname.function()`"
   ]
  },
  {
   "cell_type": "markdown",
   "metadata": {},
   "source": [
    "## Modul mit Alias importieren\n",
    "\n",
    "Wenn es uns zu Umständlich ist jedesmal `malerinMina.wand_bemalen()` voll auszuschreiben können wir beim Importieren dem Modul auch einen \"Alias\" vergeben. Dies kann beispielsweise folgendermassen aussehen:\n",
    "\n",
    "```\n",
    "import malerinMina as mm\n",
    "mm.wand_bemalen()\n",
    "```\n",
    "\n",
    "Dies ist deshalb wichtig, weil sich für viele Module haben sich bestimmte Aliasse eingebürgert haben. Ihr macht sich das Leben leichter, wenn ihr euch an diese Konventionen (welche ihr noch kennenlernen werdet) hält."
   ]
  },
  {
   "cell_type": "markdown",
   "metadata": {},
   "source": [
    "## Einzelne *Function* importieren\n",
    "\n",
    "Was man auch noch machen kann, ist eine explizite *Function* aus einem Modul zu laden. Wenn man dies macht, kann man die Funktion ohne vorangestelltes Modul nutzen (genau wie in R). Dies sieht folgendermassen aus:\n",
    "\n",
    "```\n",
    "from malerinMina import wand_bemalen()\n",
    "wand_bemalen()\n",
    "```\n"
   ]
  }
 ],
 "metadata": {
  "kernelspec": {
   "display_name": "Python 3",
   "language": "python",
   "name": "python3"
  },
  "language_info": {
   "codemirror_mode": {
    "name": "ipython",
    "version": 3
   },
   "file_extension": ".py",
   "mimetype": "text/x-python",
   "name": "python",
   "nbconvert_exporter": "python",
   "pygments_lexer": "ipython3",
   "version": "3.8.2"
  }
 },
 "nbformat": 4,
 "nbformat_minor": 4
}