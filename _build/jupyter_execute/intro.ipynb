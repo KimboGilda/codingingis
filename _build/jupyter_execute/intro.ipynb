{
 "cells": [
  {
   "cell_type": "markdown",
   "metadata": {},
   "source": [
    "# Einführung\n",
    "\n",
    "Dieses Dokument ist Teil des ZHAW AGI Modul und ist Inhalt der drei Blöcke \"Coding in GIS\". \n",
    "\n",
    "\n",
    "Noch ein kurzer Hinweis zur Typografie dieses Dokumentes:\n",
    "\n",
    "- Wenn sich im Fliesstext (Python- oder R-) Code befindet, wird er in `dieser Festschriftart` dargestellt\n",
    "- Alleinstehende Codezeilen werden  !! HIER NOCH BESCHREIBEN!!!\n",
    "- Englische Fachbegriffe, deren Übersetzung eher verwirrend als nützlich sein würde, werden *kursiv* hervorgehoben"
   ]
  },
  {
   "cell_type": "markdown",
   "metadata": {},
   "source": [
    "\n",
    "```{toctree}\n",
    ":hidden:\n",
    ":titlesonly:\n",
    ":caption: Coding in GIS I\n",
    "\n",
    "01_01_Einleitung\n",
    "01_02_Python_Basics\n",
    "01_03_Python_Module\n",
    "01_04_Tabellarische_Daten\n",
    "01_05_GIS_in_Python\n",
    "```\n",
    "\n",
    "\n",
    "```{toctree}\n",
    ":hidden:\n",
    ":titlesonly:\n",
    ":caption: Coding in GIS II\n",
    "\n",
    "02_01_Einleitung\n",
    "02_02_Input_Functions\n",
    "02_03_Functions\n",
    "02_04_Einzelpunkt_Verschieben\n",
    "02_05_Punkte_einer_GeoDataFrame_verschieben\n",
    "```\n",
    "\n",
    "\n",
    "```{toctree}\n",
    ":hidden:\n",
    ":titlesonly:\n",
    ":caption: Coding in GIS III\n",
    "\n",
    "03_01_Einleitung\n",
    "03_02_For_Loops\n",
    "03_03_Zeckenstich_Simulation\n",
    "03_04_Waldanteil_Berechnen\n",
    "```\n"
   ]
  }
 ],
 "metadata": {
  "kernelspec": {
   "display_name": "Python 3",
   "language": "python",
   "name": "python3"
  },
  "language_info": {
   "codemirror_mode": {
    "name": "ipython",
    "version": 3
   },
   "file_extension": ".py",
   "mimetype": "text/x-python",
   "name": "python",
   "nbconvert_exporter": "python",
   "pygments_lexer": "ipython3",
   "version": "3.8.5"
  }
 },
 "nbformat": 4,
 "nbformat_minor": 4
}