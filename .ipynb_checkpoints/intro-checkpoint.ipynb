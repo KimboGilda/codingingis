{
 "cells": [
  {
   "cell_type": "markdown",
   "metadata": {},
   "source": [
    "# Einführung\n",
    "\n",
    "Dieses Dokument ist Teil des ZHAW AGI Modul und ist Inhalt der drei Blöcke \"Coding in GIS\". \n",
    "\n",
    "\n",
    "Noch ein kurzer Hinweis zur Typografie dieses Dokumentes:\n",
    "\n",
    "- Wenn sich im Fliesstext (Python- oder R-) Code befindet, wird er in `dieser Festschriftart` dargestellt\n",
    "- Alleinstehende Codezeilen werden  !! HIER NOCH BESCHREIBEN!!!\n",
    "- Englische Fachbegriffe, deren Übersetzung eher verwirrend als nützlich sein würde, werden *kursiv* hervorgehoben"
   ]
  }
 ],
 "metadata": {
  "kernelspec": {
   "display_name": "Python 3",
   "language": "python",
   "name": "python3"
  },
  "language_info": {
   "codemirror_mode": {
    "name": "ipython",
    "version": 3
   },
   "file_extension": ".py",
   "mimetype": "text/x-python",
   "name": "python",
   "nbconvert_exporter": "python",
   "pygments_lexer": "ipython3",
   "version": "3.8.5"
  }
 },
 "nbformat": 4,
 "nbformat_minor": 4
}
