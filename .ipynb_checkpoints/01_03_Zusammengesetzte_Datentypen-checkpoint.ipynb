{
 "cells": [
  {
   "cell_type": "markdown",
   "metadata": {},
   "source": [
    "# Zusammengesetzte Datentypen\n",
    "\n",
    "Im letzten Kapitel haben wir primitive Datentypen angeschaut. Diese stellen eine gute Basis dar, in der Praxis haben wir aber meistens nicht *einen* Temperaturwert, sondern eine Liste von Temperaturwerten. Wir haben nicht *einen* Vornamen sondern eine Tabelle mit Vor- und Nachnamen. Dafür gibt es in Python komplexere Datenstrukturen die als Gefässe für primitive Datentypen betrachtet werden können.  Auch hier finden wir viele Ähnlichkeiten mit R:\n",
    "\n",
    "| Python  \t| R         \t| Beschreibung                               |\n",
    "|---------\t|-----------\t| -------------------------------------------|\n",
    "| List   \t| Vector   \t\t| Mehrere Werte, Abrufen über Position       |\n",
    "| Dict  \t| List \t\t\t| Mehrere Werte, Abrufen über Schlüsselwörter|\n",
    "| DataFrame\t| Dataframe   \t| Tabellarische Daten                        |\n"
   ]
  },
  {
   "cell_type": "markdown",
   "metadata": {},
   "source": [
    "## List\n",
    "\n",
    "Eine `List`:\n",
    "\n",
    "- speichert die Reihenfolge, in der die Werte eingegeben werden\n",
    "- kann unterschiedliche Datentypen enthalten\n",
    "- wird mit eckgigen Klammern (`[` und `]`) erstellt\n",
    "\n"
   ]
  },
  {
   "cell_type": "code",
   "execution_count": 4,
   "metadata": {},
   "outputs": [],
   "source": [
    "hexerei = [3,1,2]"
   ]
  },
  {
   "cell_type": "markdown",
   "metadata": {},
   "source": [
    "Der erste Wert wird in Python mit `0` (!!!) aufgerufen:"
   ]
  },
  {
   "cell_type": "code",
   "execution_count": 5,
   "metadata": {},
   "outputs": [
    {
     "data": {
      "text/plain": [
       "3"
      ]
     },
     "execution_count": 5,
     "metadata": {},
     "output_type": "execute_result"
    }
   ],
   "source": [
    "hexerei[0]"
   ]
  },
  {
   "cell_type": "code",
   "execution_count": 7,
   "metadata": {},
   "outputs": [
    {
     "data": {
      "text/plain": [
       "list"
      ]
     },
     "execution_count": 7,
     "metadata": {},
     "output_type": "execute_result"
    }
   ],
   "source": [
    "type(hexerei)"
   ]
  },
  {
   "cell_type": "markdown",
   "metadata": {},
   "source": [
    "In einer List können verschiedene Datentypen enthalten sein, auch weitere, verschachtelte Lists"
   ]
  },
  {
   "cell_type": "code",
   "execution_count": 16,
   "metadata": {},
   "outputs": [],
   "source": [
    "chaos = [23, \"ja\", [1,2,3]]"
   ]
  },
  {
   "cell_type": "code",
   "execution_count": 18,
   "metadata": {},
   "outputs": [
    {
     "data": {
      "text/plain": [
       "int"
      ]
     },
     "execution_count": 18,
     "metadata": {},
     "output_type": "execute_result"
    }
   ],
   "source": [
    "# Der Inhalt vom ersten Wert ist vom Typ \"Int\"\n",
    "type(chaos[0])"
   ]
  },
  {
   "cell_type": "code",
   "execution_count": 50,
   "metadata": {},
   "outputs": [
    {
     "data": {
      "text/plain": [
       "list"
      ]
     },
     "execution_count": 50,
     "metadata": {},
     "output_type": "execute_result"
    }
   ],
   "source": [
    "# Der Inhalt vom dritten Wert ist vom Typ \"List\"\n",
    "\n",
    "type(chaos[2])"
   ]
  },
  {
   "cell_type": "markdown",
   "metadata": {},
   "source": [
    "## Dict\n",
    "\n",
    "Eine `Dict`: \n",
    "\n",
    "- ist kurz für *Dictionary*\n",
    "- speichert die Reihenfolge, in der die Werte eingegeben werden **nicht**\n",
    "- kann unterschiedliche Datentypen enthalten\n",
    "- wird mit geschweiften Klammern (`{` und `}`) erstellt\n",
    "- speichert für jeden Wert (\"Value\") einen Schlüssel (\"Key\"), mit dem er abgerufen werden kann: `dict_name = {\"Key\" : \"Value}`\n"
   ]
  },
  {
   "cell_type": "code",
   "execution_count": 12,
   "metadata": {},
   "outputs": [],
   "source": [
    "menue = {\"Vorspeise\": \"Suppe\",\n",
    "         \"Hauptspeise\": \"Gratin\",\n",
    "         \"Dessert\": \"Eis\"}\n"
   ]
  },
  {
   "cell_type": "code",
   "execution_count": 13,
   "metadata": {},
   "outputs": [
    {
     "data": {
      "text/plain": [
       "'Suppe'"
      ]
     },
     "execution_count": 13,
     "metadata": {},
     "output_type": "execute_result"
    }
   ],
   "source": [
    "menue[\"Vorspeise\"]"
   ]
  },
  {
   "cell_type": "markdown",
   "metadata": {},
   "source": [
    "Auch hier sind verschiedene Datentypen möglich:"
   ]
  },
  {
   "cell_type": "code",
   "execution_count": 15,
   "metadata": {},
   "outputs": [],
   "source": [
    "menue = {\"Vorspeise\": \"Suppe\",\n",
    "         \"Hauptspeise\": [\"Gratin\",\"Spinat\", \"Salat\"],\n",
    "         \"Dessert\": \"Himbeerglacé\",\n",
    "         \"Preis\": 50}"
   ]
  },
  {
   "cell_type": "code",
   "execution_count": 22,
   "metadata": {},
   "outputs": [
    {
     "data": {
      "text/plain": [
       "dict"
      ]
     },
     "execution_count": 22,
     "metadata": {},
     "output_type": "execute_result"
    }
   ],
   "source": [
    "type(menue)"
   ]
  },
  {
   "cell_type": "markdown",
   "metadata": {},
   "source": [
    "## DataFrame\n",
    "\n",
    "Bei den bisherigen Datentypen handelte es sich um Strukturen, die in der Standartinstallation von Python enhalten sind. Tabellarische Strukturen sind in Python, im Gegensatz zu R, nicht standardmässig vorhanden. Dazu brauchen wir eine Erweiterung zu Python: Was es sich damit auf sich hat und wie diese installiert wird erfahren wir später. An dieser Stelle möchte ich nur die Struktur *DataFrame* vorstellen. *DataFrames* sind tabellarische Daten. Man kann sie auch als \"Spezialfall\" einer *Dict* betrachten, wo alle Werte (also *Keys*) die gleiche Länge haben.\n"
   ]
  },
  {
   "cell_type": "code",
   "execution_count": 7,
   "metadata": {
    "tags": [
     "hide-cell"
    ]
   },
   "outputs": [],
   "source": []
  },
  {
   "cell_type": "code",
   "execution_count": 14,
   "metadata": {},
   "outputs": [
    {
     "data": {
      "text/plain": [
       "{'Typ': ['Vorspeise', 'Hauptspeise', 'Dessert'],\n",
       " 'Beschreibung': ['Suppe', 'Gratin mit Spinat', 'Himbeerglacé'],\n",
       " 'Preis': [7.5, 32.0, '10.50']}"
      ]
     },
     "execution_count": 14,
     "metadata": {},
     "output_type": "execute_result"
    }
   ],
   "source": [
    "menue2 = {\"Typ\": [\"Vorspeise\",\"Hauptspeise\",\"Dessert\"],\n",
    "          \"Beschreibung\": [\"Suppe\",\"Gratin mit Spinat\", \"Himbeerglacé\"],\n",
    "          \"Preis\": [7.50, 32.0, \"10.50\"]}"
   ]
  },
  {
   "cell_type": "code",
   "execution_count": 15,
   "metadata": {},
   "outputs": [
    {
     "data": {
      "text/plain": [
       "dict"
      ]
     },
     "execution_count": 15,
     "metadata": {},
     "output_type": "execute_result"
    }
   ],
   "source": [
    "type(menue2)"
   ]
  },
  {
   "cell_type": "markdown",
   "metadata": {},
   "source": [
    "Beachte, dass nun aus den *Key* Spaltennamen werden:"
   ]
  },
  {
   "cell_type": "code",
   "execution_count": 20,
   "metadata": {},
   "outputs": [
    {
     "data": {
      "text/html": [
       "<div>\n",
       "<style scoped>\n",
       "    .dataframe tbody tr th:only-of-type {\n",
       "        vertical-align: middle;\n",
       "    }\n",
       "\n",
       "    .dataframe tbody tr th {\n",
       "        vertical-align: top;\n",
       "    }\n",
       "\n",
       "    .dataframe thead th {\n",
       "        text-align: right;\n",
       "    }\n",
       "</style>\n",
       "<table border=\"1\" class=\"dataframe\">\n",
       "  <thead>\n",
       "    <tr style=\"text-align: right;\">\n",
       "      <th></th>\n",
       "      <th>Typ</th>\n",
       "      <th>Beschreibung</th>\n",
       "      <th>Preis</th>\n",
       "    </tr>\n",
       "  </thead>\n",
       "  <tbody>\n",
       "    <tr>\n",
       "      <th>0</th>\n",
       "      <td>Vorspeise</td>\n",
       "      <td>Suppe</td>\n",
       "      <td>7.5</td>\n",
       "    </tr>\n",
       "    <tr>\n",
       "      <th>1</th>\n",
       "      <td>Hauptspeise</td>\n",
       "      <td>Gratin mit Spinat</td>\n",
       "      <td>32</td>\n",
       "    </tr>\n",
       "    <tr>\n",
       "      <th>2</th>\n",
       "      <td>Dessert</td>\n",
       "      <td>Himbeerglacé</td>\n",
       "      <td>10.50</td>\n",
       "    </tr>\n",
       "  </tbody>\n",
       "</table>\n",
       "</div>"
      ],
      "text/plain": [
       "           Typ       Beschreibung  Preis\n",
       "0    Vorspeise              Suppe    7.5\n",
       "1  Hauptspeise  Gratin mit Spinat     32\n",
       "2      Dessert       Himbeerglacé  10.50"
      ]
     },
     "execution_count": 20,
     "metadata": {},
     "output_type": "execute_result"
    }
   ],
   "source": [
    "import pandas as pd # Was diese Zeile beudeutet lernen wir später\n",
    "\n",
    "menue_df = pd.DataFrame(menue2)\n",
    "menue_df"
   ]
  },
  {
   "cell_type": "code",
   "execution_count": 18,
   "metadata": {},
   "outputs": [
    {
     "data": {
      "text/plain": [
       "pandas.core.frame.DataFrame"
      ]
     },
     "execution_count": 18,
     "metadata": {},
     "output_type": "execute_result"
    }
   ],
   "source": [
    "type(menue_df)"
   ]
  },
  {
   "cell_type": "markdown",
   "metadata": {},
   "source": [
    "## Weitere Strukturen\n",
    "\n",
    "In Python gibt es noch weitere zusammengesetzte Datentypen wie *Tuples* und *Sets*. Diese spielen im unserem Kurs aber eine untergeorndete Rolle. Ich erwähne sie an dieser Stelle zwei häufig gennante Typen, damit ihr sie schon mal gehört habt:\n",
    "\n",
    "- *Tuples*: \n",
    "  - sind ähnlich wie *Lists*, nur können sie nachträglich nicht verändert werden. Das heisst, es ist nach der Erstellung keine Ergänzung von neuen Werten oder Löschung von bestehenden Werten möglich. \n",
    "  - sie werden mit runden Klammern (`(` und `)`) erstellt (`mytuple = (2,2,1)`).\n",
    "- *Sets*\n",
    "  - sind ähnlich wie *Dicts*, verfügen nicht über `keys` und `values`\n",
    "  - jeder Wert wird nur 1x gespeichert (Duplikate werden automatisch gelöscht)\n",
    "  - Sie werden mit geschweiften Klammern (`{` und `}`) erstellt."
   ]
  },
  {
   "cell_type": "markdown",
   "metadata": {},
   "source": [
    "## Übung 1: Lists\n",
    "\n",
    "1. Erstelle eine Variable `vornamen` bestehend aus einer *List* mit 3 Vornamen\n",
    "2. Erstelle eine zweite Variable `nachnamen` bestehend aus einer *List* mit 3 Nachnamen\n",
    "3. Erstelle eine Variable `groessen` bestehend aus einer *List* mit 3 Grössenangaben in Zentimeter."
   ]
  },
  {
   "cell_type": "code",
   "execution_count": 3,
   "metadata": {
    "tags": [
     "remove-cell"
    ]
   },
   "outputs": [],
   "source": [
    "# Musterlösung\n",
    "\n",
    "vornamen = [\"Christopher\", \"Henning\", \"Severin\"]\n",
    "nachnamen = [\"Annen\",\"May\", \"Kantereit\"]\n",
    "\n",
    "groessen = [174, 182, 162]"
   ]
  },
  {
   "cell_type": "markdown",
   "metadata": {},
   "source": [
    "## Übung 2: Elemente aus Liste ansprechen\n",
    "\n",
    "Wie erhältst du den ersten Eintrag in der Variable `vornamen`? "
   ]
  },
  {
   "cell_type": "code",
   "execution_count": 4,
   "metadata": {
    "tags": [
     "remove-cell"
    ]
   },
   "outputs": [
    {
     "data": {
      "text/plain": [
       "'Christopher'"
      ]
     },
     "execution_count": 4,
     "metadata": {},
     "output_type": "execute_result"
    }
   ],
   "source": [
    "# Musterlösung\n",
    "\n",
    "vornamen[0]"
   ]
  },
  {
   "cell_type": "markdown",
   "metadata": {},
   "source": [
    "## Übung 3: Liste ergänzen\n",
    "\n",
    "Listen können durch der Method `append` ergänzt werden (s.u.). Ergänze in die Listen `vornamen`, `nachnamen` und `groessen` durch je einen Eintrag."
   ]
  },
  {
   "cell_type": "code",
   "execution_count": null,
   "metadata": {},
   "outputs": [],
   "source": [
    "vornamen.append(\"Malte\")"
   ]
  },
  {
   "cell_type": "code",
   "execution_count": null,
   "metadata": {
    "tags": [
     "remove-cell"
    ]
   },
   "outputs": [],
   "source": [
    "# Musterlösung\n",
    "\n",
    "nachnamen.append(\"Huck\")\n",
    "\n",
    "groessen.append(177)"
   ]
  }
 ],
 "metadata": {
  "kernelspec": {
   "display_name": "Python 3",
   "language": "python",
   "name": "python3"
  },
  "language_info": {
   "codemirror_mode": {
    "name": "ipython",
    "version": 3
   },
   "file_extension": ".py",
   "mimetype": "text/x-python",
   "name": "python",
   "nbconvert_exporter": "python",
   "pygments_lexer": "ipython3",
   "version": "3.7.8"
  }
 },
 "nbformat": 4,
 "nbformat_minor": 4
}
