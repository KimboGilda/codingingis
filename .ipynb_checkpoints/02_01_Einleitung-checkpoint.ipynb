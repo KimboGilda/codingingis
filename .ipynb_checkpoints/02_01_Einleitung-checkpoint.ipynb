{
 "cells": [
  {
   "cell_type": "markdown",
   "metadata": {},
   "source": [
    "# Einleitung zur Übung Coding in GIS II\n",
    "\n",
    "Letzte Woche habt ihr einen weiten Bogen gespannt: Von einfachen (primitiven) Datentypen bis hin zu Geodaten und deren Visualisierung. In dieser und der nächsten Übung (Coding in GIS II und III) wollen wir uns weiter mit den Zeckenstichdaten befassen. Wir werden im Wesentlichen ein Teil der Übung aus «Datenqualität und Unsicherheit» in Python rekonstruieren. \n",
    "In der Übung geht es um folgendes: Wir wissen das die Lagegenauigkeit der Zeckenstichmeldungen mit einer gewissen Unsicherheit behaftet sind. Um die Frage \"Welcher Anteil der der Zeckenstiche befinden sich im Wald?\" unter Berücksichtigung dieser Unsicherheit beantworten zu können, führen wir eine (Monte Carlo) Simulation durch.\n",
    "In dieser Simulation verändern wir die Position der Zeckenstichmeldungen zufällig und berechnen den Anteil der Zeckenstiche im Wald. Das zufällige Verschieben und berechnen wiederholen wir beliebig lange und bekommen für jede Wiederholung einen leicht unterschiedlichen Prozentwert. Die Verteilung dieser Prozentwerte ist die Antwort auf die ursprüngliche Frage (\"Welcher Anteil...\") unter Berücksichtigung der Unsicherheit.\n",
    "\n",
    "Um eine solche, etwas komplexere Aufgabe lösen zu können müssen wir sie in einfachere Einzelschritte aufteilen. Diese bearbeiten wir in dieser und der kommenden Woche:\n",
    "\n",
    "- Schritt 1: Einen Einzelpunkt zufällig verschieben\n",
    "- Schritt 2: Alle Punkte einer GeoDataFrame zufällig verschieben (1 «Run»)\n",
    "- Schritt 3: Alle Punkte einer GeoDataFrame mehrfach zufällig verschieben (z.B. 50 «Runs»)\n",
    "- Schritt 4: Anteil der Punkte im Wald pro «Run» ermitteln\n",
    "- Schritt 5: Verteilung dieser Mittelwerte visualisieren \n",
    "\n"
   ]
  },
  {
   "cell_type": "code",
   "execution_count": null,
   "metadata": {},
   "outputs": [],
   "source": [
    "## Übungsziele\n",
    "\n",
    "Ziele der heutigen Übung sind:\n",
    "- Functions kennenlernen und beherrschen\n",
    "- Einfache Geometrien manipulieren lernen\n",
    "- Eigene Python-Scripts importieren können\n",
    "- Function auf eine ganze Spalte einer (Geo-) DataFrame anwenden können.\n"
   ]
  }
 ],
 "metadata": {
  "kernelspec": {
   "display_name": "Python 3",
   "language": "python",
   "name": "python3"
  },
  "language_info": {
   "codemirror_mode": {
    "name": "ipython",
    "version": 3
   },
   "file_extension": ".py",
   "mimetype": "text/x-python",
   "name": "python",
   "nbconvert_exporter": "python",
   "pygments_lexer": "ipython3",
   "version": "3.8.5"
  }
 },
 "nbformat": 4,
 "nbformat_minor": 4
}
