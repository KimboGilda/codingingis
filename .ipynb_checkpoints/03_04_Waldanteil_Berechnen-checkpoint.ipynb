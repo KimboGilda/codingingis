{
 "cells": [
  {
   "cell_type": "markdown",
   "metadata": {},
   "source": [
    "# Waldanteil berechnen\n",
    "\n",
    "Nun sind wir so weit, dass wir 50 Simulation der Zeckenstiche mit zufällig verschobenen Punkten vorbereitet haben. Wir haben also die gleiche Ausgangslage, mit der ihr den Themenblock «Datenqualität und Unsicherheiten» gestartet habt. Nun geht es darum:\n",
    "\n",
    "1. Für jeden Simulierten Punkt zu bestimmen ob er innerhalb oder ausserhalb des Waldes liegt\n",
    "2. Den Anteil der Punkte im Wald pro Simulation zu bestimmen\n",
    "3. Die Verteilung dieser prozentualen Anteile über alle Simulationen zusammen zu fassen (mit einem Boxplot)\n",
    "\n",
    "Lade dafür den Datensatz \"Wald.zip\" von Moodle herunter und entpacke das Shapefile in deine *Working Directory*. Importiere den Datensatz mit `pd.read_file()` und speichere es als Variable `wald`."
   ]
  },
  {
   "cell_type": "code",
   "execution_count": 9,
   "metadata": {
    "tags": [
     "hide-cell"
    ]
   },
   "outputs": [],
   "source": [
    "import pandas as pd\n",
    "import geopandas as gpd\n",
    "\n",
    "monte_carlo_df = gpd.read_file(\"monte_carlo_df.shp\")\n",
    "\n",
    "monte_carlo_df\n",
    "\n",
    "wald = gpd.read_file(\"wald.shp\")\n",
    "zeckenstiche = gpd.read_file(\"zeckenstiche.shp\")\n",
    "\n"
   ]
  },
  {
   "cell_type": "markdown",
   "metadata": {},
   "source": [
    "## Übung 1: Wald oder nicht Wald?\n",
    "\n",
    "Als erstes stellt sich die Frage, welche Punkte sich innerhalb eines Wald-Polygons befinden. In GIS Terminologie handelt es sich hier um einen *Spatial Join*.\n",
    "\n",
    "*Spatial Join* ist als Funktion im Modul `geopandas` mit dem namen sjoin vorhanden. Wie auf [der Hilfeseite](https://geopandas.org/reference/geopandas.sjoin.html) beschrieben, müssen wir dieser *Function* zwei *GeoDataFrames* übergeben, die ge-joined werden sollen. Es können weitere, optionale Parameter angepasst werden, doch bei uns passen die Default werte.\n",
    "\n",
    "Führe `gpd.sjoin()` auf die beiden Datensätze `monte_carlo_df` und `wald` aus. Beachte, das die Reihenfolge, mit welchen du die beiden GeoDataFrames der Funktion übergibst eine Rolle spielt. Versuche beide Varianten und wähle die korrekte aus. Stelle dir dazu die Frage: Was für ein Geometrietyp (Punkt / Linie / Polygon) soll der Output haben? Speichere den Output als `mote_carlo_sjoin`. \n",
    "Hinweis: Allenfalls müssen das Koordinatensystem der beiden GeoDataFrames nochmals explizit gesetzt werden (z.B. mit `wald.set_crs(epsg = 2056,allow_override = True)`) \n"
   ]
  },
  {
   "cell_type": "code",
   "execution_count": 21,
   "metadata": {},
   "outputs": [
    {
     "data": {
      "text/html": [
       "<div>\n",
       "<style scoped>\n",
       "    .dataframe tbody tr th:only-of-type {\n",
       "        vertical-align: middle;\n",
       "    }\n",
       "\n",
       "    .dataframe tbody tr th {\n",
       "        vertical-align: top;\n",
       "    }\n",
       "\n",
       "    .dataframe thead th {\n",
       "        text-align: right;\n",
       "    }\n",
       "</style>\n",
       "<table border=\"1\" class=\"dataframe\">\n",
       "  <thead>\n",
       "    <tr style=\"text-align: right;\">\n",
       "      <th></th>\n",
       "      <th>Wald</th>\n",
       "      <th>Shape_Leng</th>\n",
       "      <th>Shape_Area</th>\n",
       "      <th>geometry</th>\n",
       "      <th>index_right</th>\n",
       "      <th>ID</th>\n",
       "      <th>Run_Nr</th>\n",
       "    </tr>\n",
       "  </thead>\n",
       "  <tbody>\n",
       "    <tr>\n",
       "      <th>0</th>\n",
       "      <td>1</td>\n",
       "      <td>921225.341854</td>\n",
       "      <td>7.963237e+07</td>\n",
       "      <td>POLYGON Z ((2689962.355 1245335.250 644.591, 2...</td>\n",
       "      <td>35744</td>\n",
       "      <td>236</td>\n",
       "      <td>33</td>\n",
       "    </tr>\n",
       "    <tr>\n",
       "      <th>0</th>\n",
       "      <td>1</td>\n",
       "      <td>921225.341854</td>\n",
       "      <td>7.963237e+07</td>\n",
       "      <td>POLYGON Z ((2689962.355 1245335.250 644.591, 2...</td>\n",
       "      <td>49714</td>\n",
       "      <td>218</td>\n",
       "      <td>46</td>\n",
       "    </tr>\n",
       "    <tr>\n",
       "      <th>0</th>\n",
       "      <td>1</td>\n",
       "      <td>921225.341854</td>\n",
       "      <td>7.963237e+07</td>\n",
       "      <td>POLYGON Z ((2689962.355 1245335.250 644.591, 2...</td>\n",
       "      <td>18510</td>\n",
       "      <td>218</td>\n",
       "      <td>17</td>\n",
       "    </tr>\n",
       "    <tr>\n",
       "      <th>0</th>\n",
       "      <td>1</td>\n",
       "      <td>921225.341854</td>\n",
       "      <td>7.963237e+07</td>\n",
       "      <td>POLYGON Z ((2689962.355 1245335.250 644.591, 2...</td>\n",
       "      <td>35726</td>\n",
       "      <td>218</td>\n",
       "      <td>33</td>\n",
       "    </tr>\n",
       "    <tr>\n",
       "      <th>0</th>\n",
       "      <td>1</td>\n",
       "      <td>921225.341854</td>\n",
       "      <td>7.963237e+07</td>\n",
       "      <td>POLYGON Z ((2689962.355 1245335.250 644.591, 2...</td>\n",
       "      <td>52942</td>\n",
       "      <td>218</td>\n",
       "      <td>49</td>\n",
       "    </tr>\n",
       "  </tbody>\n",
       "</table>\n",
       "</div>"
      ],
      "text/plain": [
       "   Wald     Shape_Leng    Shape_Area  \\\n",
       "0     1  921225.341854  7.963237e+07   \n",
       "0     1  921225.341854  7.963237e+07   \n",
       "0     1  921225.341854  7.963237e+07   \n",
       "0     1  921225.341854  7.963237e+07   \n",
       "0     1  921225.341854  7.963237e+07   \n",
       "\n",
       "                                            geometry  index_right   ID  Run_Nr  \n",
       "0  POLYGON Z ((2689962.355 1245335.250 644.591, 2...        35744  236      33  \n",
       "0  POLYGON Z ((2689962.355 1245335.250 644.591, 2...        49714  218      46  \n",
       "0  POLYGON Z ((2689962.355 1245335.250 644.591, 2...        18510  218      17  \n",
       "0  POLYGON Z ((2689962.355 1245335.250 644.591, 2...        35726  218      33  \n",
       "0  POLYGON Z ((2689962.355 1245335.250 644.591, 2...        52942  218      49  "
      ]
     },
     "execution_count": 21,
     "metadata": {},
     "output_type": "execute_result"
    }
   ],
   "source": [
    "monte_carlo_df = monte_carlo_df.set_crs(epsg = 2056)\n",
    "wald = wald.set_crs(epsg = 2056,allow_override = True)\n",
    "\n",
    "monte_carlo_sjoin = gpd.sjoin(wald,monte_carlo_df)\n",
    "\n",
    "monte_carlo_sjoin.head()"
   ]
  },
  {
   "cell_type": "markdown",
   "metadata": {},
   "source": [
    "## Übung 2: Anteil der Punkte im Wald\n",
    "\n",
    "Wenn wir mit `len()` die Anzahl Zeilen zwischen `monte_carlo_df` und `mote_carlo_sjoin` vergleichen, sehen wir, dass sich die Anzahl von 53'800 auf 24'021 reduziert hat. Im Mittel, über alle Simulationen, befinden sich also 44.5%  ($\\frac{24021}{53800}$) der Zeckenstiche im Wald. Das ist ja schon mal spannend, aber uns interessiert ja vor allem die Verteilung dieser Mittelwerte zwischen den Simulationen. \n",
    "\n",
    "Wir müssen also die von sjoin übrig gebliebenen Punkte pro Durchgang zählen und durch ursprüngliche Anzahl Zeckenstiche dividieren.  Ursprünglich waren es 1'076 Punkte, wie uns len(zeckenstiche) zeigt. \n",
    "\n",
    "In der Logik: DataFrame => Nach «Durchgang» Gruppieren => zählen => dividieren. Genau in dieser Schreibweise können wir unsere Befehlskette aufbauen:"
   ]
  },
  {
   "cell_type": "code",
   "execution_count": 26,
   "metadata": {},
   "outputs": [],
   "source": [
    "mittelwerte = monte_carlo_sjoin.groupby(\"Run_Nr\").size()/1075"
   ]
  },
  {
   "cell_type": "markdown",
   "metadata": {},
   "source": [
    "## Übung 3: Mittelwerte Visualisieren\n",
    "\n",
    "Gratuliere! Wenn du an diesem Punkt angekommen bist hast du eine ganze Monte Carlo Simulation von A bis Z mit Python durchgeführt. Von hier an steht dir der Weg frei für noch komplexere Analysen. Zum Abschluss kannst du die Mittelwerte wir nun auf einfache Weise visualisieren. Versuche dabei die Methods `plot()` und `plot.box()` sowie `plot.hist()`."
   ]
  },
  {
   "cell_type": "code",
   "execution_count": 28,
   "metadata": {
    "tags": [
     "hide-cell"
    ]
   },
   "outputs": [
    {
     "data": {
      "text/plain": [
       "(0.4, 0.6)"
      ]
     },
     "execution_count": 28,
     "metadata": {},
     "output_type": "execute_result"
    },
    {
     "data": {
      "image/png": "[encoded data removed]",
      "text/plain": [
       "<Figure size 432x288 with 1 Axes>"
      ]
     },
     "metadata": {
      "needs_background": "light"
     },
     "output_type": "display_data"
    }
   ],
   "source": [
    "mittelwerte.plot().set_ylim(0.4,0.6)"
   ]
  },
  {
   "cell_type": "code",
   "execution_count": 29,
   "metadata": {
    "tags": [
     "hide-cell"
    ]
   },
   "outputs": [
    {
     "data": {
      "text/plain": [
       "(0.4, 0.6)"
      ]
     },
     "execution_count": 29,
     "metadata": {},
     "output_type": "execute_result"
    },
    {
     "data": {
      "image/png": "[encoded data removed]",
      "text/plain": [
       "<Figure size 432x288 with 1 Axes>"
      ]
     },
     "metadata": {
      "needs_background": "light"
     },
     "output_type": "display_data"
    }
   ],
   "source": [
    "mittelwerte.plot.box().set_ylim(0.4,0.6)"
   ]
  },
  {
   "cell_type": "code",
   "execution_count": 30,
   "metadata": {
    "tags": [
     "hide-cell"
    ]
   },
   "outputs": [
    {
     "data": {
      "text/plain": [
       "<AxesSubplot:ylabel='Frequency'>"
      ]
     },
     "execution_count": 30,
     "metadata": {},
     "output_type": "execute_result"
    },
    {
     "data": {
      "image/png": "[encoded data removed]",
      "text/plain": [
       "<Figure size 432x288 with 1 Axes>"
      ]
     },
     "metadata": {
      "needs_background": "light"
     },
     "output_type": "display_data"
    }
   ],
   "source": [
    "mittelwerte.plot.hist()"
   ]
  }
 ],
 "metadata": {
  "kernelspec": {
   "display_name": "Python 3",
   "language": "python",
   "name": "python3"
  },
  "language_info": {
   "codemirror_mode": {
    "name": "ipython",
    "version": 3
   },
   "file_extension": ".py",
   "mimetype": "text/x-python",
   "name": "python",
   "nbconvert_exporter": "python",
   "pygments_lexer": "ipython3",
   "version": "3.7.8"
  }
 },
 "nbformat": 4,
 "nbformat_minor": 4
}
