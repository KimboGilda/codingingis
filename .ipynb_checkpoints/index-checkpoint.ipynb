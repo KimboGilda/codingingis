{
 "cells": [
  {
   "cell_type": "markdown",
   "metadata": {},
   "source": [
    "# Willkommen bei *Coding in GIS* ! \n",
    "\n",
    "Dieser kurze Kurs ist Bestandteil des übergreifenden Moduls \"[Angewandte Geoinformatik](https://studienplaner.lsfm.zhaw.ch/module/angewandte-geoinformatik)\" der Zürcher Hochschule für Angewandte Wissenschaften (ZHAW). Er soll einen Einstieg in die Programmierwelt von Python bieten und spezifisch zeigen wie man räumliche Fragestellungen mit frei verfügbaren Programmen lösen kann. Die Voraussetzung für dieser Kurs ist eine Offenheit neue Tools und Ansätze kennen zu lernen sowie die Bereitschaft für Lösungorientiertes arbeiten und etwas Hartnäckigkeit.\n",
    "\n",
    "Das github-repo ist hier [ratnanil/codingingis](https://github.com/ratnanil/codingingis)."
   ]
  },
  {
   "cell_type": "markdown",
   "metadata": {},
   "source": [
    "```{admonition} Dieses Buch ist sowohl online als auch pdf version verfügbar: \n",
    ":class: tip\n",
    "- online: [https://ratnanil.github.io/codingingis](https://ratnanil.github.io/codingingis)\n",
    "- pdf: [https://github.com/ratnanil/codingingis/raw/master/codingingis.pdf](https://github.com/ratnanil/codingingis/raw/master/codingingis.pdf)\n",
    "```"
   ]
  },
  {
   "cell_type": "markdown",
   "metadata": {},
   "source": [
    "**Typographie**\n",
    "\n",
    "Noch ein kurzer Hinweis zur Typografie dieses Dokumentes:\n",
    "\n",
    "- Wenn sich im Fliesstext (Python- oder R-) Code befindet, wird er in `dieser Festschriftart` dargestellt\n",
    "- Englische Begriffe, deren Übersetzung eher verwirrend als nützlich wären, werden *in dieser Weise* hervorgehoben\n",
    "- Alleinstehende Codezeilen werden folgendermassen dargestellt:"
   ]
  },
  {
   "cell_type": "code",
   "execution_count": 3,
   "metadata": {
    "tags": [
     "remove-output"
    ]
   },
   "outputs": [
    {
     "name": "stdout",
     "output_type": "stream",
     "text": [
      "Coding in GIS!\n"
     ]
    }
   ],
   "source": [
    "print(\"Coding in GIS!\")"
   ]
  },
  {
   "cell_type": "markdown",
   "metadata": {},
   "source": [
    "- Da viele von euch bereits Erfahrung in R haben, stelle ich immer wieder den Bezug zu dieser Programmiersprache her. Diese Verweise sind folgendermassen gekennzeichnet:\n",
    "\n",
    "```{admonition} Für R Nutzer\n",
    ":class: tip\n",
    "- hier wird ein Bezug zu R gemacht\n",
    "```\n",
    "\n",
    "In der Online Version dieses Buches werdet ihr häufig am rechten Rand einen Button mit der Aufschrift \"Click to show\" antreffen. Mit einem Klick auf das Plus-Symbol seht ihr die Musterlösung der entsprechenden Aufgabe. Dieses interaktive Element ist leider nur in der Online Ausgabe des Buches verfügbar, im PDF sind die Musterlösungen immer eingeblendet. Ich empfehle euch deshalb, die Übungen mit der online Version des buches zu lösen und, diesen Button nur sehr zögerlich zu verwenden! Wenn ihr euch durch die Musterlösungen klickt werdet ihr sehr wenig aus diesem Modul mitnehmen.\n"
   ]
  },
  {
   "cell_type": "code",
   "execution_count": null,
   "metadata": {
    "tags": [
     "hide-input",
     "remove-output"
    ]
   },
   "outputs": [],
   "source": [
    "# hier steht die Musterlösung der Aufgabe. Erst betätigen wenn ihr \n",
    "# vergeblich versucht habt, die Aufgabe selbst zu lösen!\n",
    "print(\"Don't peek!\")"
   ]
  }
 ],
 "metadata": {
  "kernelspec": {
   "display_name": "Python 3",
   "language": "python",
   "name": "python3"
  },
  "language_info": {
   "codemirror_mode": {
    "name": "ipython",
    "version": 3
   },
   "file_extension": ".py",
   "mimetype": "text/x-python",
   "name": "python",
   "nbconvert_exporter": "python",
   "pygments_lexer": "ipython3",
   "version": "3.7.8"
  }
 },
 "nbformat": 4,
 "nbformat_minor": 4
}
