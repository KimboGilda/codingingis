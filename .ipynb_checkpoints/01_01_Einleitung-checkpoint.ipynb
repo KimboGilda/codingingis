{
 "cells": [
  {
   "cell_type": "markdown",
   "metadata": {},
   "source": [
    "# Einleitung zu diesem Block"
   ]
  },
  {
   "cell_type": "markdown",
   "metadata": {
    "tags": [
     "admonition"
    ]
   },
   "source": [
    "In diesem Block bekommt ihr eure ersten Kontakt mit Python und lernt dabei auch gerade JupyterLabs kennen, um mit Python zu interagieren. Um euch den Einstieg zu erleichtern müsst ihr noch nichts lokal auf euren Rechnern installieren, sondern könnt auf einem ZHAW-Server arbeiten. Diesen findet ihr hier: \n",
    "\n",
    "[jupyterhub01.zhaw.ch](https://jupyterhub01.zhaw.ch)\n",
    "\n",
    "Ihr könnt euch mit eurem ZHAW Kürzel (ohne \"\\@students.zhaw.ch\") und Passwort einloggen. \n",
    "\n",
    "```{admonition} Übungsziele\n",
    ":class: attention\n",
    "- JupyterLabs aufstarten, kennenlernen und bei Bedarf personalisieren\n",
    "- Python kennen lernen, erste Interaktionen\n",
    "- Die wichtigsten Datentypen in Python kennen lernen (`bool`, `str`, `int`, `float`, `list`, `dict`)\n",
    "- Pandas DataFrames kennen lernen und einfache Manipulationen durchführen\n",
    "```\n",
    "\n"
   ]
  }
 ],
 "metadata": {
  "kernelspec": {
   "display_name": "Python 3",
   "language": "python",
   "name": "python3"
  },
  "language_info": {
   "codemirror_mode": {
    "name": "ipython",
    "version": 3
   },
   "file_extension": ".py",
   "mimetype": "text/x-python",
   "name": "python",
   "nbconvert_exporter": "python",
   "pygments_lexer": "ipython3",
   "version": "3.7.8"
  }
 },
 "nbformat": 4,
 "nbformat_minor": 4
}
