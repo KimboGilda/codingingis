{
 "cells": [
  {
   "cell_type": "markdown",
   "metadata": {},
   "source": [
    "# For Loops\n",
    "\n",
    "Nirgends ist der Aspekt der Automatisierung so sichtbar wie in For Loops. Loops sind «Schleifen» wo eine Aufgabe so lange wiederholt wird, bis ein Ende erreicht worden ist. Auch For-Loops sind im Grunde genommen sehr einfach:"
   ]
  },
  {
   "cell_type": "code",
   "execution_count": 2,
   "metadata": {
    "tags": [
     "hide-output"
    ]
   },
   "outputs": [
    {
     "name": "stdout",
     "output_type": "stream",
     "text": [
      "Iteration 0\n",
      "Iteration 1\n",
      "Iteration 2\n"
     ]
    }
   ],
   "source": [
    "for platzhalter in [0,1,2]:\n",
    "    print(\"Iteration\",platzhalter)"
   ]
  },
  {
   "cell_type": "markdown",
   "metadata": {},
   "source": [
    "- for legt fest, dass eine For-Loop beginnt\n",
    "- Nach «for» kommt eine Platzhalter-Variabel, die beliebig heissen kann. Diese Variabel verändert sich innerhalb des-Loops\n",
    "- Nach dem Platzhalter kommt der Begriff «in»\n",
    "- Nach in wird der «Iterator» festgelegt, also worüber der For-Loop iterieren soll (hier: über eine Liste mit den Zahlen 0,1,2). \n",
    "- Danach kommt, wie schon bei der Funktion ein Doppelpunkt «:» der Zeigt: «Nun legen wir gleich fest was im For-Loop passieren soll»\n",
    "- Auf einer neuen Zeile wird eingerückt festgelegt, was in der For-Loop passieren soll. In unserem Fall wird wieder etwas Nonsens in die Konsole ausgespukt. Achtung: return() gibt’s in For-Loops nicht.\n",
    "- Der Output des obigen For-Loops sieht folgendermassen aus:\n",
    "```\n",
    "Iteration 0\n",
    "Iteration 1\n",
    "Iteration 2\n",
    "```\n",
    "- Die Variabel «platzhalter» hat nach Beendigung des-Loops den gespeichert, der als letztes verwendet wurde:\n"
   ]
  },
  {
   "cell_type": "code",
   "execution_count": 4,
   "metadata": {},
   "outputs": [
    {
     "data": {
      "text/plain": [
       "2"
      ]
     },
     "execution_count": 4,
     "metadata": {},
     "output_type": "execute_result"
    }
   ],
   "source": [
    "platzhalter"
   ]
  },
  {
   "cell_type": "markdown",
   "metadata": {},
   "source": [
    "## Übung 1: Erste For-Loop erstellen\n",
    "\n",
    "Erstelle eine For-Loop, die über eine Liste von 3 Namen iteriert, und jede Person in der Liste grüsst (Output in die Konsole mittels `print`). "
   ]
  },
  {
   "cell_type": "code",
   "execution_count": null,
   "metadata": {
    "tags": [
     "hide-cell"
    ]
   },
   "outputs": [],
   "source": [
    "for name in [\"Il Buono\", \"Il Brutto\", \"Il Cattivo\"]:\n",
    "    print(\"Ciao \",name)"
   ]
  },
  {
   "cell_type": "markdown",
   "metadata": {},
   "source": [
    "## Übung 2: For-Loop mit `range()`\n",
    "\n",
    "Im Dummy-Beispiel der Einführung iterieren wir über eine Liste mit den Werten `0`, `1` und `2`. Wenn wir aber über viele Werte iterieren wollen, ist es zu mühsam händisch eine Liste mit allen Werten zu erstellen. Mit range(n) erstellt Python ein Iterator mit den Zahlen `0` bis `n`. Repliziere den For-Loop aus der Einführung und ersetzte `[0,1,2]` mit `range(3)`. "
   ]
  },
  {
   "cell_type": "code",
   "execution_count": 5,
   "metadata": {
    "tags": [
     "hide-cell"
    ]
   },
   "outputs": [
    {
     "name": "stdout",
     "output_type": "stream",
     "text": [
      "Iteration 0\n",
      "Iteration 1\n",
      "Iteration 2\n"
     ]
    }
   ],
   "source": [
    "for platzhalter in range(3):\n",
    "    print(\"Iteration\",platzhalter)"
   ]
  },
  {
   "cell_type": "markdown",
   "metadata": {},
   "source": [
    "## Input: Output aus For-Loop\n",
    "\n",
    "Bis jetzt haben wir lediglich Sachen in die Konsole herausgeben lassen, doch wie schon bei Functions ist der Zweck einer For-Loop meist, dass nach Durchführung etwas davon zurückbleibt. return() gibt es aber bei For-Loops nicht. Nehmen wir folgendes Beispiel (Brooks, M., 1997):\n"
   ]
  },
  {
   "cell_type": "code",
   "execution_count": 6,
   "metadata": {},
   "outputs": [
    {
     "name": "stdout",
     "output_type": "stream",
     "text": [
      "I'm a bitch\n",
      "I'm a lover\n",
      "I'm a child\n",
      "I'm a mother\n",
      "I'm a sinner\n",
      "I'm a saint\n"
     ]
    }
   ],
   "source": [
    "for schlagwort in [\"bitch\",\"lover\",\"child\",\"mother\",\"sinner\",\"saint\"]:\n",
    "    liedzeile = \"I'm a \"+ schlagwort \n",
    "    print(liedzeile)\n"
   ]
  },
  {
   "cell_type": "markdown",
   "metadata": {},
   "source": [
    "Der Output von dieser For-Loop sind zwar sechs Liederzeilen, wenn wir die Variabel `liedzeile` anschauen ist dort nur das Resultat aus der letzten Durchführung gespeichert. Das gleiche gilt auch für die variabel `schlagwort`."
   ]
  },
  {
   "cell_type": "code",
   "execution_count": 8,
   "metadata": {},
   "outputs": [
    {
     "data": {
      "text/plain": [
       "\"I'm a saint\""
      ]
     },
     "execution_count": 8,
     "metadata": {},
     "output_type": "execute_result"
    }
   ],
   "source": [
    "liedzeile"
   ]
  },
  {
   "cell_type": "code",
   "execution_count": 9,
   "metadata": {},
   "outputs": [
    {
     "data": {
      "text/plain": [
       "'saint'"
      ]
     },
     "execution_count": 9,
     "metadata": {},
     "output_type": "execute_result"
    }
   ],
   "source": [
    "schlagwort"
   ]
  },
  {
   "cell_type": "markdown",
   "metadata": {},
   "source": [
    "Das verrät uns etwas über die Funktionsweise des *For-Loops*: Bei jedem Durchgang werden die Variablen immer wieder überschrieben. Wenn wir also den Output des ganzen For-Loops abspeichern wollen, müssen wir dies etwas vorbereiten. \n",
    "Dafür erstellen wir unmittelbar for dem For-Loop einen leeren Behälter, zum Beispiel eine leere Liste (`strophe = []`). Nun können wir innerhalb des *Loops* `append()` nutzen, um den Output von einem Durchgang dieser Liste hinzu zu fügen.\n"
   ]
  },
  {
   "cell_type": "code",
   "execution_count": 14,
   "metadata": {},
   "outputs": [
    {
     "data": {
      "text/plain": [
       "[\"I'm a bitch\",\n",
       " \"I'm a lover\",\n",
       " \"I'm a child\",\n",
       " \"I'm a mother\",\n",
       " \"I'm a sinner\",\n",
       " \"I'm a saint\"]"
      ]
     },
     "execution_count": 14,
     "metadata": {},
     "output_type": "execute_result"
    }
   ],
   "source": [
    "strophe = []\n",
    "\n",
    "for schlagwort in [\"bitch\",\"lover\",\"child\",\"mother\",\"sinner\",\"saint\"]:\n",
    "    liedzeile = \"I'm a \"+ schlagwort \n",
    "    strophe.append(liedzeile)\n",
    "    \n",
    "strophe"
   ]
  },
  {
   "cell_type": "markdown",
   "metadata": {},
   "source": [
    "## Übung 3: Output aus For-Loop speichern\n",
    "\n",
    "Erweitere deinen *For-Loop* aus Übung 1 so, dass der Output aller Durchgänge in einer Liste gespeichert werden."
   ]
  },
  {
   "cell_type": "code",
   "execution_count": 15,
   "metadata": {
    "tags": [
     "hide-cell"
    ]
   },
   "outputs": [
    {
     "data": {
      "text/plain": [
       "['Ciao Il Buono', 'Ciao Il Brutto', 'Ciao Il Cattivo']"
      ]
     },
     "execution_count": 15,
     "metadata": {},
     "output_type": "execute_result"
    }
   ],
   "source": [
    "mylist = []\n",
    "\n",
    "for name in [\"Il Buono\", \"Il Brutto\", \"Il Cattivo\"]:\n",
    "    mylist.append(\"Ciao \"+name)\n",
    "\n",
    "mylist"
   ]
  }
 ],
 "metadata": {
  "kernelspec": {
   "display_name": "Python 3",
   "language": "python",
   "name": "python3"
  },
  "language_info": {
   "codemirror_mode": {
    "name": "ipython",
    "version": 3
   },
   "file_extension": ".py",
   "mimetype": "text/x-python",
   "name": "python",
   "nbconvert_exporter": "python",
   "pygments_lexer": "ipython3",
   "version": "3.7.8"
  }
 },
 "nbformat": 4,
 "nbformat_minor": 4
}
