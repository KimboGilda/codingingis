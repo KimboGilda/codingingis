{
 "cells": [
  {
   "cell_type": "markdown",
   "metadata": {},
   "source": [
    "# Punkte einer GeoDataFrame zufällig verschieben\n",
    "\n",
    "Nun wollen wir den ganzen Zauber auf unsere richtigen Daten, die Zeckenstiche, anwenden. Dazu müssen wir zuerst den Zeckenstichdatensatz einlesen. Nutzt dazu die Function `gpd.read_file()` um das Shapefile, welches wir letzte Woche abgespeichert hatten, zu importieren. Wer dieses Shapefile nicht hat, findet eine Version auf Moodle. Speichere die Daten in als Variabel `zeckenstiche`."
   ]
  },
  {
   "cell_type": "code",
   "execution_count": 2,
   "metadata": {},
   "outputs": [],
   "source": [
    "import pandas as pd\n",
    "import geopandas as gpd\n",
    "import random\n",
    "from shapely.geometry import Point\n",
    "\n",
    "zeckenstiche = gpd.read_file(\"zeckenstiche.shp\")\n",
    "\n",
    "\n",
    "def point_offset(point, distance = 100):\n",
    "    x_alt = point.x\n",
    "    y_alt = point.y\n",
    "\n",
    "    distance = int(distance)\n",
    "\n",
    "    x_neu = x_alt + random.randrange(-distance,distance)\n",
    "    y_neu = y_alt + random.randrange(-distance,distance)\n",
    "\n",
    "    point_off = Point(x_neu, y_neu)\n",
    "\n",
    "    return(point_off)"
   ]
  },
  {
   "cell_type": "markdown",
   "metadata": {},
   "source": [
    "## Übung 1: Alle Zeckenstiche zufällig verschieben\n",
    "\n",
    "Um in *DataFrames* / *GeoDataFrames* ganze Spalten oder Zeilen zu verändern, stehen einem die *Methods* `ma`p, `apply` und `applymap` zur Verfügung. Es lohnt sich sehr, die verschiedenen Anwendungsbereiche dieser *Methods* kennen zu lernen, doch das würde den Umfang dieses Kurses überschreiten. Heute brauchen wir lediglich `apply`, welches wir auf die `geometry`-Spalte unserer *GeoDataFrame* anwenden. \n",
    "Um unsere eigene Function point_offset auf die Spalte geometry anzuwenden gehst du wie folgt vor: Selektiere die entsprechende Spalte (mit `[\"spaltenname\"]`) und verwende die Method apply mit der selbst erstellt Function point_offset als einziges Argument, und zwar ohne Klammer. "
   ]
  },
  {
   "cell_type": "code",
   "execution_count": 3,
   "metadata": {},
   "outputs": [
    {
     "data": {
      "text/plain": [
       "0    POINT (2679011.000 1240901.000)\n",
       "1    POINT (2679758.000 1240952.000)\n",
       "2    POINT (2687585.000 1240786.000)\n",
       "3    POINT (2674928.000 1240919.000)\n",
       "4    POINT (2681678.000 1240996.000)\n",
       "Name: geometry, dtype: geometry"
      ]
     },
     "execution_count": 3,
     "metadata": {},
     "output_type": "execute_result"
    }
   ],
   "source": [
    "zeckenstiche[\"geometry\"].apply(point_offset).head() # .head kann man weglassen"
   ]
  },
  {
   "cell_type": "markdown",
   "metadata": {},
   "source": [
    "## Übung 2: Neue GeoDataFrame mit simulierten Punkten erstellen\n",
    "\n",
    "Was bei `apply()` rauskommt, sind nur die neuen, verschobenen Punkte. Um diese abzuspeichern erstellen wir eine leere GeoDataFrame und weisen den Output aus `apply()` einer neuen Spalte namens `geometry` zu."
   ]
  },
  {
   "cell_type": "code",
   "execution_count": 5,
   "metadata": {},
   "outputs": [],
   "source": [
    "zeckenstiche_sim = gpd.GeoDataFrame()\n",
    "zeckenstiche_sim[\"geometry\"] = zeckenstiche[\"geometry\"].apply(point_offset)"
   ]
  },
  {
   "cell_type": "markdown",
   "metadata": {},
   "source": [
    "## Übung 3: ID übernehmen\n",
    "\n",
    "Der generierte Datensatz `zeckenstiche_sim` verfügt nun nur über eine Geometriespalte, die anderen Spalten von `zeckenstiche` haben wir nicht übernommen. Bei den meisten Spalten ist uns das auch egal, aber die Zeckenstich ID wäre praktisch, um den simulierten Punkt zum Original Zeckenstich zurück führen zu können. \n",
    "\n",
    "Übertrage die ID von `zeckenstiche` auf `zeckenstiche_sim`. Verwende dazu die Selektion mit eckigen Klammern.\n"
   ]
  },
  {
   "cell_type": "code",
   "execution_count": 6,
   "metadata": {
    "tags": [
     "hide-cell"
    ]
   },
   "outputs": [
    {
     "data": {
      "text/html": [
       "<div>\n",
       "<style scoped>\n",
       "    .dataframe tbody tr th:only-of-type {\n",
       "        vertical-align: middle;\n",
       "    }\n",
       "\n",
       "    .dataframe tbody tr th {\n",
       "        vertical-align: top;\n",
       "    }\n",
       "\n",
       "    .dataframe thead th {\n",
       "        text-align: right;\n",
       "    }\n",
       "</style>\n",
       "<table border=\"1\" class=\"dataframe\">\n",
       "  <thead>\n",
       "    <tr style=\"text-align: right;\">\n",
       "      <th></th>\n",
       "      <th>geometry</th>\n",
       "      <th>ID</th>\n",
       "    </tr>\n",
       "  </thead>\n",
       "  <tbody>\n",
       "    <tr>\n",
       "      <th>0</th>\n",
       "      <td>POINT (2679012.000 1240835.000)</td>\n",
       "      <td>0</td>\n",
       "    </tr>\n",
       "    <tr>\n",
       "      <th>1</th>\n",
       "      <td>POINT (2679858.000 1240776.000)</td>\n",
       "      <td>1</td>\n",
       "    </tr>\n",
       "    <tr>\n",
       "      <th>2</th>\n",
       "      <td>POINT (2687497.000 1240838.000)</td>\n",
       "      <td>2</td>\n",
       "    </tr>\n",
       "    <tr>\n",
       "      <th>3</th>\n",
       "      <td>POINT (2674913.000 1240816.000)</td>\n",
       "      <td>3</td>\n",
       "    </tr>\n",
       "    <tr>\n",
       "      <th>4</th>\n",
       "      <td>POINT (2681857.000 1241001.000)</td>\n",
       "      <td>4</td>\n",
       "    </tr>\n",
       "  </tbody>\n",
       "</table>\n",
       "</div>"
      ],
      "text/plain": [
       "                          geometry  ID\n",
       "0  POINT (2679012.000 1240835.000)   0\n",
       "1  POINT (2679858.000 1240776.000)   1\n",
       "2  POINT (2687497.000 1240838.000)   2\n",
       "3  POINT (2674913.000 1240816.000)   3\n",
       "4  POINT (2681857.000 1241001.000)   4"
      ]
     },
     "execution_count": 6,
     "metadata": {},
     "output_type": "execute_result"
    }
   ],
   "source": [
    "zeckenstiche_sim[\"ID\"] = zeckenstiche[\"ID\"]\n",
    "zeckenstiche_sim.head()"
   ]
  },
  {
   "cell_type": "markdown",
   "metadata": {},
   "source": [
    "## Übung 4: Mehrere *GeoDataFrames* visualisieren\n",
    "\n",
    "Um zwei *GeoDataFrames* im gleichen Plot darzustellen, wird folgendermassen vorgegangen. Der erste Datensatz wird mit `.plot()` visualisiert, wobei der Output einer Variabel  (z.B. `basemap`)  zugewiesen wird. Danach wird der zweite Datensatz ebenfalls mit `.plot()` visualisiert, wobei auf den ersten Plot via dem Argument `ax` verwiesen wird."
   ]
  },
  {
   "cell_type": "code",
   "execution_count": 8,
   "metadata": {},
   "outputs": [
    {
     "data": {
      "text/plain": [
       "<AxesSubplot:>"
      ]
     },
     "execution_count": 8,
     "metadata": {},
     "output_type": "execute_result"
    },
    {
     "data": {
      "image/png": "[encoded data removed]",
      "text/plain": [
       "<Figure size 432x288 with 1 Axes>"
      ]
     },
     "metadata": {
      "needs_background": "light"
     },
     "output_type": "display_data"
    }
   ],
   "source": [
    "basemap = zeckenstiche.plot(color = \"red\")\n",
    "zeckenstiche_sim.plot(ax = basemap, color = \"blue\")"
   ]
  }
 ],
 "metadata": {
  "kernelspec": {
   "display_name": "Python 3",
   "language": "python",
   "name": "python3"
  },
  "language_info": {
   "codemirror_mode": {
    "name": "ipython",
    "version": 3
   },
   "file_extension": ".py",
   "mimetype": "text/x-python",
   "name": "python",
   "nbconvert_exporter": "python",
   "pygments_lexer": "ipython3",
   "version": "3.7.8"
  }
 },
 "nbformat": 4,
 "nbformat_minor": 4
}
