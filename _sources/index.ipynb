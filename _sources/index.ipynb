{
 "cells": [
  {
   "cell_type": "markdown",
   "metadata": {},
   "source": [
    "# Einführung\n",
    "\n",
    "Dieses Dokument ist Teil des ZHAW AGI Modul und ist Inhalt der drei Blöcke \"Coding in GIS\". \n",
    "\n",
    "\n",
    "Noch ein kurzer Hinweis zur Typografie dieses Dokumentes:\n",
    "\n",
    "- Wenn sich im Fliesstext (Python- oder R-) Code befindet, wird er in `dieser Festschriftart` dargestellt\n",
    "- Alleinstehende Codezeilen werden folgendermassen dargestellt:"
   ]
  },
  {
   "cell_type": "code",
   "execution_count": null,
   "metadata": {
    "tags": [
     "remove-output"
    ]
   },
   "outputs": [],
   "source": [
    "print(\"Coding in GIS!\")"
   ]
  },
  {
   "cell_type": "markdown",
   "metadata": {},
   "source": [
    "- Englische Fachbegriffe, deren Übersetzung eher verwirrend als nützlich sein würde, werden *kursiv* hervorgehoben\n",
    "- Da viele von euch bereits Erfahrung in R haben, stelle ich vor allem zu Beginn immer wieder den Bezug zu dieser Programmiersprache her. Diese sind folgendermassen gekennzeichnet. \n",
    "\n",
    "```{admonition} Für R Nutzer\n",
    ":class: tip\n",
    "- hier wird ein Bezug zu R gemacht\n",
    "```"
   ]
  }
 ],
 "metadata": {
  "kernelspec": {
   "display_name": "Python 3",
   "language": "python",
   "name": "python3"
  },
  "language_info": {
   "codemirror_mode": {
    "name": "ipython",
    "version": 3
   },
   "file_extension": ".py",
   "mimetype": "text/x-python",
   "name": "python",
   "nbconvert_exporter": "python",
   "pygments_lexer": "ipython3",
   "version": "3.7.8"
  }
 },
 "nbformat": 4,
 "nbformat_minor": 4
}
