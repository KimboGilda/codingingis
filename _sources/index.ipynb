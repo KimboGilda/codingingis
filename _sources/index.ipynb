{
 "cells": [
  {
   "cell_type": "markdown",
   "metadata": {},
   "source": [
    "# Einführung\n",
    "\n",
    "Dieses Online-Buch ist Bestandteil des ZHAW Moduls \"[Angewandte Geoinformatik](https://studienplaner.lsfm.zhaw.ch/module/angewandte-geoinformatik)\" und deckt den Inhalt der drei Blöcke \"Coding in GIS\" ab. \n",
    "\n",
    "Das github-repo ist hier [ratnanil/codingingis](https://github.com/ratnanil/codingingis)."
   ]
  },
  {
   "cell_type": "markdown",
   "metadata": {
    "tags": [
     "remove-output"
    ]
   },
   "source": [
    "```{tip}\n",
    "Dieses Buch ist als online version hier gehostet: https://ratnanil.github.io/codingingis. Es kann aber auch alspdf [hier](https://github.com/ratnanil/codingingis/raw/master/codingingis.pdf) heruntergelanden werden.\n",
    "```"
   ]
  }
 ],
 "metadata": {
  "kernelspec": {
   "display_name": "Python 3",
   "language": "python",
   "name": "python3"
  },
  "language_info": {
   "codemirror_mode": {
    "name": "ipython",
    "version": 3
   },
   "file_extension": ".py",
   "mimetype": "text/x-python",
   "name": "python",
   "nbconvert_exporter": "python",
   "pygments_lexer": "ipython3",
   "version": "3.7.8"
  }
 },
 "nbformat": 4,
 "nbformat_minor": 4
}
