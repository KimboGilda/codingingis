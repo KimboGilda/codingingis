{
 "cells": [
  {
   "cell_type": "markdown",
   "metadata": {},
   "source": [
    "# Willkommen bei *Coding in GIS* ! \n",
    "\n",
    "Dieser kurze Kurs ist Bestandteil des übergreifenden Moduls \"[Angewandte Geoinformatik](https://studienplaner.lsfm.zhaw.ch/module/angewandte-geoinformatik)\" der Zürcher Hochschule für Angewandte Wissenschaften (ZHAW). Er soll einen Einstieg in die Programmierwelt von Python bieten und spezifisch zeigen wie man räumliche Fragestellungen mit frei verfügbaren Programmen lösen kann. Die Voraussetzung für dieser Kurs ist eine Offenheit neue Tools und Ansätze kennen zu lernen sowie die Bereitschaft für Lösungorientiertes arbeiten und etwas Hartnäckigkeit.\n",
    "\n",
    "Das github-repo ist hier [ratnanil/codingingis](https://github.com/ratnanil/codingingis)."
   ]
  },
  {
   "cell_type": "markdown",
   "metadata": {},
   "source": [
    "```{admonition}\n",
    ":class: tip\n",
    "Dieses Buch ist als online version hier gehostet: https://ratnanil.github.io/codingingis. Es kann aber auch als pdf [hier](https://github.com/ratnanil/codingingis/raw/master/codingingis.pdf) heruntergelanden werden.\n",
    "```"
   ]
  },
  {
   "cell_type": "markdown",
   "metadata": {},
   "source": [
    "```{admonition}\n",
    ":class: tip\n",
    "Dieses Buch ist als online version hier gehostet: https://ratnanil.github.io/codingingis. Es kann aber auch als pdf [hier](https://github.com/ratnanil/codingingis/raw/master/codingingis.pdf) heruntergelanden werden.\n",
    "```"
   ]
  },
  {
   "cell_type": "markdown",
   "metadata": {},
   "source": [
    "## Typographie\n",
    "\n",
    "Noch ein kurzer Hinweis zur Typografie dieses Dokumentes:\n",
    "\n",
    "- Wenn sich im Fliesstext (Python- oder R-) Code befindet, wird er in `dieser Festschriftart` dargestellt\n",
    "- Alleinstehende Codezeilen werden folgendermassen dargestellt:"
   ]
  },
  {
   "cell_type": "code",
   "execution_count": 3,
   "metadata": {
    "tags": [
     "remove-output"
    ]
   },
   "outputs": [
    {
     "name": "stdout",
     "output_type": "stream",
     "text": [
      "Coding in GIS!\n"
     ]
    }
   ],
   "source": [
    "print(\"Coding in GIS!\")"
   ]
  },
  {
   "cell_type": "markdown",
   "metadata": {},
   "source": [
    "- Englische Fachbegriffe, deren Übersetzung eher verwirrend als nützlich wäreb, werden *in dieser Weise* hervorgehoben\n",
    "- Da viele von euch bereits Erfahrung in R haben, stelle ich immer wieder den Bezug zu dieser Programmiersprache her. Diese Verweise sind folgendermassen gekennzeichnet:\n",
    "\n",
    "```{admonition} Für R Nutzer\n",
    ":class: tip\n",
    "- hier wird ein Bezug zu R gemacht\n",
    "```"
   ]
  }
 ],
 "metadata": {
  "kernelspec": {
   "display_name": "Python 3",
   "language": "python",
   "name": "python3"
  },
  "language_info": {
   "codemirror_mode": {
    "name": "ipython",
    "version": 3
   },
   "file_extension": ".py",
   "mimetype": "text/x-python",
   "name": "python",
   "nbconvert_exporter": "python",
   "pygments_lexer": "ipython3",
   "version": "3.7.8"
  }
 },
 "nbformat": 4,
 "nbformat_minor": 4
}
