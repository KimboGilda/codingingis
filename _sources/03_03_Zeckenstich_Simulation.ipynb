{
 "cells": [
  {
   "cell_type": "markdown",
   "metadata": {},
   "source": [
    "# Zeckenstich Simulation mit Loop"
   ]
  },
  {
   "cell_type": "markdown",
   "metadata": {},
   "source": [
    "Letzte Woche hattet ihr alle Punkte Zeckenstich-GeoDataFrame einmal zufällig verschoben. Nun wo ihr die Funktionsweise von Loops kennt, könnt ihr diesen Schritt eine beliebige Anzahl mal wiederholen. Um auf den Stand der letzten Woche zu kommen müsst ihr folgende Schritte ausführen: \n",
    "\n",
    "1. Importiert die notwenigen Module (pandas, geopandas, random) \n",
    "2. Importiert die notwendigen Functions (Point aus shapely.geometry sowie die selbst erstellte Function point_offset()) \n",
    "3. Importiert den Zeckenstichdatensatz\n",
    "4. Rekonstruiert Übung 10 und 11 aus letzter Woche um die Zeckenstiche 1x zufällig zu verschieben\n",
    "\n",
    "Der Code für diese Schritte 1 – 4 lauten folgendermassen:"
   ]
  },
  {
   "cell_type": "code",
   "execution_count": 29,
   "metadata": {},
   "outputs": [],
   "source": [
    "# Schritt 1\n",
    "import pandas as pd\n",
    "import geopandas as gpd\n",
    "import random\n",
    "\n",
    "# Schritt 2\n",
    "from shapely.geometry import Point\n",
    "\n",
    "def point_offset(point, distance = 100):\n",
    "    x_alt = point.x\n",
    "    y_alt = point.y\n",
    "\n",
    "    distance = int(distance)\n",
    "\n",
    "    x_neu = x_alt + random.randrange(-distance,distance)\n",
    "    y_neu = y_alt + random.randrange(-distance,distance)\n",
    "\n",
    "    point_off = Point(x_neu, y_neu)\n",
    "\n",
    "    return(point_off)\n",
    "\n",
    "# Schritt 3\n",
    "zeckenstiche = gpd.read_file(\"zeckenstiche.shp\")\n",
    "\n",
    "# Schritt 4\n",
    "zeckenstiche_sim = gpd.GeoDataFrame()\n",
    "zeckenstiche_sim[\"geometry\"] = zeckenstiche[\"geometry\"].apply(point_offset)\n",
    "zeckenstiche_sim[\"ID\"] = zeckenstiche[\"ID\"]\n"
   ]
  },
  {
   "cell_type": "markdown",
   "metadata": {},
   "source": [
    "## Übung 1: Mit For-Loop Monte Carlo Simulation durchführen \n",
    "\n",
    "Kombiniere den Code aus Schritt 4 (siehe vorherige Seite) mit deinem Wissen über Loops, um diese einmalige Verschiebung der Punkte 50-mal (mit `range(50)`) zu wiederholen. Denk daran: Du brauchst vor dem Loop eine leere Liste (z.B. `monte_carlo = []`) damit du den Output aus jedem Loop mit `append()`  abspeichern kannst. Erstelle auch eine neue Spalte `Run_Nr` mit der Nummer der Durchführung (die du vom Platzhalter erhältst).\n",
    "\n",
    "```{figure} montepython.jpg\n",
    "Quelle [twitter.com](https://twitter.com/GregoryRHancock/status/1179734188716707846?s=20)\n",
    "```"
   ]
  },
  {
   "cell_type": "markdown",
   "metadata": {},
   "source": [
    "<blockquote class=\"twitter-tweet\"><p lang=\"en\" dir=\"ltr\">If someone does a Monte Carlo simulation study using Python, can we call it a “Monte Python” study? <br>Please?</p>&mdash; Gregory R. Hancock (@GregoryRHancock) <a href=\"https://twitter.com/GregoryRHancock/status/1179734188716707846?ref_src=twsrc%5Etfw\">October 3, 2019</a></blockquote> <script async src=\"https://platform.twitter.com/widgets.js\" charset=\"utf-8\"></script> "
   ]
  },
  {
   "cell_type": "code",
   "execution_count": 30,
   "metadata": {
    "tags": [
     "hide-cell"
    ]
   },
   "outputs": [],
   "source": [
    "monte_carlo = []\n",
    "for i in range(50):\n",
    "    zeckenstiche_sim = gpd.GeoDataFrame()\n",
    "    zeckenstiche_sim[\"geometry\"] = zeckenstiche[\"geometry\"].apply(point_offset)\n",
    "    zeckenstiche_sim[\"ID\"] = zeckenstiche[\"ID\"]\n",
    "    zeckenstiche_sim[\"Run_Nr\"] = i\n",
    "    monte_carlo.append(zeckenstiche_sim)"
   ]
  },
  {
   "cell_type": "markdown",
   "metadata": {},
   "source": [
    "## Übung 2: GeoDataFrames aus Simulation zusammenführen\n",
    "\n",
    "Schau dir die Outputs an. \n",
    "\n",
    "- Mit `type()`: \n",
    "  - Was für ein Datentyp ist `zeckenstiche_sim`?\n",
    "  - Was für ein Datentyp ist `monte_carlo`?\n",
    "- Mit `len()`: \n",
    "  - Wie vielen Elemente hat `zeckenstiche_sim`?\n",
    "  - Wie viele Elemente hat `monte_carlo`?\n",
    "\n",
    "Worauf ich hinaus will: `zeckenstiche_sim` ist eine *GeoDataFrame* und `monte_carlo` ist eine Liste von *GeoDataFrames*. Glücklicherweise kann man eine Liste von ähnlichen GeoDataFrames (ähnlich im Sinne von: gleiche Spaltennamen und -typen) mit der Funktion `concat()` aus `pandas` zu einer einzigen *GeoDataFrame* zusammenführen. Führe die Funktion aus und speichere den Output als `monte_carlo_df`.  \n"
   ]
  },
  {
   "cell_type": "code",
   "execution_count": 31,
   "metadata": {
    "tags": [
     "hide-cell"
    ]
   },
   "outputs": [
    {
     "data": {
      "text/plain": [
       "geopandas.geodataframe.GeoDataFrame"
      ]
     },
     "execution_count": 31,
     "metadata": {},
     "output_type": "execute_result"
    }
   ],
   "source": [
    "type(zeckenstiche_sim)"
   ]
  },
  {
   "cell_type": "code",
   "execution_count": 32,
   "metadata": {
    "tags": [
     "hide-cell"
    ]
   },
   "outputs": [
    {
     "data": {
      "text/plain": [
       "list"
      ]
     },
     "execution_count": 32,
     "metadata": {},
     "output_type": "execute_result"
    }
   ],
   "source": [
    "type(monte_carlo)"
   ]
  },
  {
   "cell_type": "code",
   "execution_count": 33,
   "metadata": {
    "tags": [
     "hide-cell"
    ]
   },
   "outputs": [
    {
     "data": {
      "text/plain": [
       "1076"
      ]
     },
     "execution_count": 33,
     "metadata": {},
     "output_type": "execute_result"
    }
   ],
   "source": [
    "len(zeckenstiche_sim)"
   ]
  },
  {
   "cell_type": "code",
   "execution_count": 34,
   "metadata": {
    "tags": [
     "hide-cell"
    ]
   },
   "outputs": [
    {
     "data": {
      "text/plain": [
       "50"
      ]
     },
     "execution_count": 34,
     "metadata": {},
     "output_type": "execute_result"
    }
   ],
   "source": [
    "len(monte_carlo)"
   ]
  },
  {
   "cell_type": "code",
   "execution_count": 35,
   "metadata": {
    "tags": [
     "hide-cell"
    ]
   },
   "outputs": [],
   "source": [
    "monte_carlo_df = pd.concat(monte_carlo)"
   ]
  },
  {
   "cell_type": "markdown",
   "metadata": {},
   "source": [
    "## Übung 3: Simulierte Daten visualisieren\n",
    "\n",
    "Exploriere nun `monte_carlo_df`? Was ist es für ein Datentyp? Was hat es für Spalten? Visualisiere den Datensatz räumlich mit `monte_carlo_df.plot()`. \n",
    "Optional: Wenn du Punkte mit der gleichen ID einer Farbe zuweisen möchtest, dann erreichst du dies mit der Option `column = \"ID\"` (das geht natürlich nur, wenn du im Loop auch eine solche Spalte erstellt hast)\n"
   ]
  },
  {
   "cell_type": "code",
   "execution_count": 36,
   "metadata": {},
   "outputs": [
    {
     "data": {
      "text/html": [
       "<div>\n",
       "<style scoped>\n",
       "    .dataframe tbody tr th:only-of-type {\n",
       "        vertical-align: middle;\n",
       "    }\n",
       "\n",
       "    .dataframe tbody tr th {\n",
       "        vertical-align: top;\n",
       "    }\n",
       "\n",
       "    .dataframe thead th {\n",
       "        text-align: right;\n",
       "    }\n",
       "</style>\n",
       "<table border=\"1\" class=\"dataframe\">\n",
       "  <thead>\n",
       "    <tr style=\"text-align: right;\">\n",
       "      <th></th>\n",
       "      <th>geometry</th>\n",
       "      <th>ID</th>\n",
       "      <th>Run_Nr</th>\n",
       "    </tr>\n",
       "  </thead>\n",
       "  <tbody>\n",
       "    <tr>\n",
       "      <th>0</th>\n",
       "      <td>POINT (2679012.000 1240725.000)</td>\n",
       "      <td>0</td>\n",
       "      <td>0</td>\n",
       "    </tr>\n",
       "    <tr>\n",
       "      <th>1</th>\n",
       "      <td>POINT (2679881.000 1240812.000)</td>\n",
       "      <td>1</td>\n",
       "      <td>0</td>\n",
       "    </tr>\n",
       "    <tr>\n",
       "      <th>2</th>\n",
       "      <td>POINT (2687490.000 1240841.000)</td>\n",
       "      <td>2</td>\n",
       "      <td>0</td>\n",
       "    </tr>\n",
       "    <tr>\n",
       "      <th>3</th>\n",
       "      <td>POINT (2674749.000 1240879.000)</td>\n",
       "      <td>3</td>\n",
       "      <td>0</td>\n",
       "    </tr>\n",
       "    <tr>\n",
       "      <th>4</th>\n",
       "      <td>POINT (2681841.000 1240894.000)</td>\n",
       "      <td>4</td>\n",
       "      <td>0</td>\n",
       "    </tr>\n",
       "  </tbody>\n",
       "</table>\n",
       "</div>"
      ],
      "text/plain": [
       "                          geometry  ID  Run_Nr\n",
       "0  POINT (2679012.000 1240725.000)   0       0\n",
       "1  POINT (2679881.000 1240812.000)   1       0\n",
       "2  POINT (2687490.000 1240841.000)   2       0\n",
       "3  POINT (2674749.000 1240879.000)   3       0\n",
       "4  POINT (2681841.000 1240894.000)   4       0"
      ]
     },
     "execution_count": 36,
     "metadata": {},
     "output_type": "execute_result"
    }
   ],
   "source": [
    "monte_carlo_df.head()"
   ]
  },
  {
   "cell_type": "code",
   "execution_count": 37,
   "metadata": {},
   "outputs": [
    {
     "data": {
      "text/plain": [
       "<AxesSubplot:>"
      ]
     },
     "execution_count": 37,
     "metadata": {},
     "output_type": "execute_result"
    },
    {
     "data": {
      "image/png": "[encoded data removed]",
      "text/plain": [
       "<Figure size 432x288 with 1 Axes>"
      ]
     },
     "metadata": {
      "needs_background": "light"
     },
     "output_type": "display_data"
    }
   ],
   "source": [
    "monte_carlo_df.plot(column = \"ID\")"
   ]
  },
  {
   "cell_type": "code",
   "execution_count": 38,
   "metadata": {},
   "outputs": [],
   "source": [
    "monte_carlo_df.to_file(\"monte_carlo_df.shp\")"
   ]
  }
 ],
 "metadata": {
  "kernelspec": {
   "display_name": "Python 3",
   "language": "python",
   "name": "python3"
  },
  "language_info": {
   "codemirror_mode": {
    "name": "ipython",
    "version": 3
   },
   "file_extension": ".py",
   "mimetype": "text/x-python",
   "name": "python",
   "nbconvert_exporter": "python",
   "pygments_lexer": "ipython3",
   "version": "3.7.8"
  }
 },
 "nbformat": 4,
 "nbformat_minor": 4
}
