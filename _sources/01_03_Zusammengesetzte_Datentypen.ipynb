{
 "cells": [
  {
   "cell_type": "markdown",
   "metadata": {},
   "source": [
    "# Input: Zusammengesetzte Datentypen\n",
    "\n",
    "Basierend auf den \"atomaren\" oder primitiven Datentypen exisiteren komplexere Datenstrukturen, die aber an sich immer noch sehr einfach sind. "
   ]
  },
  {
   "cell_type": "markdown",
   "metadata": {},
   "source": [
    "## List\n",
    "\n",
    "Eine `List`:\n",
    "\n",
    "- speichert die Reihenfolge, in der die Werte eingegeben werden\n",
    "- kann unterschiedliche Datentypen enthalten\n",
    "- wird mit eckgigen Klammern (`[` und `]`) erstellt\n",
    "\n"
   ]
  },
  {
   "cell_type": "code",
   "execution_count": 4,
   "metadata": {},
   "outputs": [],
   "source": [
    "hexerei = [3,1,2]"
   ]
  },
  {
   "cell_type": "markdown",
   "metadata": {},
   "source": [
    "Der erste Wert wird in Python mit `0` aufgerufen:"
   ]
  },
  {
   "cell_type": "code",
   "execution_count": 5,
   "metadata": {},
   "outputs": [
    {
     "data": {
      "text/plain": [
       "3"
      ]
     },
     "execution_count": 5,
     "metadata": {},
     "output_type": "execute_result"
    }
   ],
   "source": [
    "hexerei[0]"
   ]
  },
  {
   "cell_type": "code",
   "execution_count": 7,
   "metadata": {},
   "outputs": [
    {
     "data": {
      "text/plain": [
       "list"
      ]
     },
     "execution_count": 7,
     "metadata": {},
     "output_type": "execute_result"
    }
   ],
   "source": [
    "type(hexerei)"
   ]
  },
  {
   "cell_type": "markdown",
   "metadata": {},
   "source": [
    "In einer List können verschiedene Datentypen enthalten sein, auch weitere, verschachtelte Lists"
   ]
  },
  {
   "cell_type": "code",
   "execution_count": 16,
   "metadata": {},
   "outputs": [],
   "source": [
    "chaos = [23, \"ja\", [1,2,3]]"
   ]
  },
  {
   "cell_type": "code",
   "execution_count": 18,
   "metadata": {},
   "outputs": [
    {
     "data": {
      "text/plain": [
       "int"
      ]
     },
     "execution_count": 18,
     "metadata": {},
     "output_type": "execute_result"
    }
   ],
   "source": [
    "# Der Inhalt vom ersten Wert ist vom Typ \"Int\"\n",
    "type(chaos[0])"
   ]
  },
  {
   "cell_type": "code",
   "execution_count": 50,
   "metadata": {},
   "outputs": [
    {
     "data": {
      "text/plain": [
       "list"
      ]
     },
     "execution_count": 50,
     "metadata": {},
     "output_type": "execute_result"
    }
   ],
   "source": [
    "# Der Inhalt vom dritten Wert ist vom Typ \"List\"\n",
    "\n",
    "type(chaos[2])"
   ]
  },
  {
   "cell_type": "markdown",
   "metadata": {},
   "source": [
    "```{admonition} Für R Nutzer\n",
    ":class: tip\n",
    "Eine Python List entspricht eines R Vectors \n",
    "```"
   ]
  },
  {
   "cell_type": "markdown",
   "metadata": {},
   "source": [
    "## Dict\n",
    "\n",
    "Eine `Dict`: \n",
    "\n",
    "- speichert die Reihenfolge, in der die Werte eingegeben werden **nicht**\n",
    "- kann unterschiedliche Datentypen enthalten\n",
    "- wird mit geschweiften Klammern (`{` und `}`) erstellt\n",
    "- speichert für jeden Wert («Value») einen Schlüssel («Key»), mit dem er abgerufen werden kann:\n",
    "\n",
    "`dict_name = {\"Key\" : \"Value}`\n"
   ]
  },
  {
   "cell_type": "code",
   "execution_count": 12,
   "metadata": {},
   "outputs": [],
   "source": [
    "menue = {\"Vorspeise\": \"Suppe\",\n",
    "         \"Hauptspeise\": \"Gratin\",\n",
    "         \"Dessert\": \"Eis\"}\n"
   ]
  },
  {
   "cell_type": "code",
   "execution_count": 13,
   "metadata": {},
   "outputs": [
    {
     "data": {
      "text/plain": [
       "'Suppe'"
      ]
     },
     "execution_count": 13,
     "metadata": {},
     "output_type": "execute_result"
    }
   ],
   "source": [
    "menue[\"Vorspeise\"]"
   ]
  },
  {
   "cell_type": "markdown",
   "metadata": {},
   "source": [
    "Auch hier sind verschiedene Datentypen möglich:"
   ]
  },
  {
   "cell_type": "code",
   "execution_count": 15,
   "metadata": {},
   "outputs": [],
   "source": [
    "menue = {\"Vorspeise\": \"Suppe\",\n",
    "         \"Hauptspeise\": [\"Gratin\",\"Spinat\", \"Salat\"],\n",
    "         \"Dessert\": \"Himbeerglacé\",\n",
    "         \"Preis\": 50}"
   ]
  },
  {
   "cell_type": "code",
   "execution_count": 22,
   "metadata": {},
   "outputs": [
    {
     "data": {
      "text/plain": [
       "dict"
      ]
     },
     "execution_count": 22,
     "metadata": {},
     "output_type": "execute_result"
    }
   ],
   "source": [
    "type(menue)"
   ]
  },
  {
   "cell_type": "markdown",
   "metadata": {},
   "source": [
    "## DataFrame\n",
    "\n",
    "Bei den bisherigen Datentypen handelte es sich um Strukturen, die in der Standartinstallation von Python enhalten sind. Tabellarische Strukturen sind in Python, im Gegensatz zu R, nicht standardmässig vorhanden. Dazu brauchen wir eine Erweiterung zu Python: Was es sich damit auf sich hat und wie diese installiert wird erfahren wir später. An dieser Stelle möchte ich nur die Struktur `DataFrame` vorstellen. `DataFrames` sind:\n",
    "\n",
    "- Tabellarische Daten\n",
    "- Ein Spezialfall einer Dict:\n",
    "  - `values` sind `Lists` von gleicher Länge\n",
    "  - alle Werte in einer `List` bestehen aus dem gleichen Datentyp\n",
    "- jeder `key` ist ein Spaltenname\n"
   ]
  },
  {
   "cell_type": "code",
   "execution_count": 24,
   "metadata": {
    "tags": [
     "hide-cell"
    ]
   },
   "outputs": [],
   "source": [
    "import pandas as pd"
   ]
  },
  {
   "cell_type": "code",
   "execution_count": 34,
   "metadata": {},
   "outputs": [
    {
     "data": {
      "text/plain": [
       "{'Typ': ['Vorspeise', 'Hauptspeise', 'Dessert'],\n",
       " 'Beschreibung': ['Suppe', 'Gratin mit Spinat', 'Himbeerglacé'],\n",
       " 'Preis': [7.5, 32.0, 10.5]}"
      ]
     },
     "execution_count": 34,
     "metadata": {},
     "output_type": "execute_result"
    }
   ],
   "source": [
    "menue2 = {\"Typ\": [\"Vorspeise\",\"Hauptspeise\",\"Dessert\"],\n",
    "          \"Beschreibung\": [\"Suppe\",\"Gratin mit Spinat\", \"Himbeerglacé\"],\n",
    "          \"Preis\": [7.50, 32.0, 10.50]}\n",
    "\n",
    "menue2\n"
   ]
  },
  {
   "cell_type": "code",
   "execution_count": 35,
   "metadata": {},
   "outputs": [
    {
     "data": {
      "text/plain": [
       "pandas.core.frame.DataFrame"
      ]
     },
     "execution_count": 35,
     "metadata": {},
     "output_type": "execute_result"
    }
   ],
   "source": [
    "type(menue2)"
   ]
  },
  {
   "cell_type": "code",
   "execution_count": 38,
   "metadata": {},
   "outputs": [
    {
     "data": {
      "text/html": [
       "<div>\n",
       "<style scoped>\n",
       "    .dataframe tbody tr th:only-of-type {\n",
       "        vertical-align: middle;\n",
       "    }\n",
       "\n",
       "    .dataframe tbody tr th {\n",
       "        vertical-align: top;\n",
       "    }\n",
       "\n",
       "    .dataframe thead th {\n",
       "        text-align: right;\n",
       "    }\n",
       "</style>\n",
       "<table border=\"1\" class=\"dataframe\">\n",
       "  <thead>\n",
       "    <tr style=\"text-align: right;\">\n",
       "      <th></th>\n",
       "      <th>Typ</th>\n",
       "      <th>Beschreibung</th>\n",
       "      <th>Preis</th>\n",
       "    </tr>\n",
       "  </thead>\n",
       "  <tbody>\n",
       "    <tr>\n",
       "      <th>0</th>\n",
       "      <td>Vorspeise</td>\n",
       "      <td>Suppe</td>\n",
       "      <td>7.5</td>\n",
       "    </tr>\n",
       "    <tr>\n",
       "      <th>1</th>\n",
       "      <td>Hauptspeise</td>\n",
       "      <td>Gratin mit Spinat</td>\n",
       "      <td>32.0</td>\n",
       "    </tr>\n",
       "    <tr>\n",
       "      <th>2</th>\n",
       "      <td>Dessert</td>\n",
       "      <td>Himbeerglacé</td>\n",
       "      <td>10.5</td>\n",
       "    </tr>\n",
       "  </tbody>\n",
       "</table>\n",
       "</div>"
      ],
      "text/plain": [
       "           Typ       Beschreibung  Preis\n",
       "0    Vorspeise              Suppe    7.5\n",
       "1  Hauptspeise  Gratin mit Spinat   32.0\n",
       "2      Dessert       Himbeerglacé   10.5"
      ]
     },
     "execution_count": 38,
     "metadata": {},
     "output_type": "execute_result"
    }
   ],
   "source": [
    "menue_df = pd.DataFrame(menue2)\n",
    "\n",
    "menue_df"
   ]
  },
  {
   "cell_type": "code",
   "execution_count": 40,
   "metadata": {},
   "outputs": [
    {
     "data": {
      "text/plain": [
       "pandas.core.frame.DataFrame"
      ]
     },
     "execution_count": 40,
     "metadata": {},
     "output_type": "execute_result"
    }
   ],
   "source": [
    "type(menue_df)"
   ]
  },
  {
   "cell_type": "markdown",
   "metadata": {},
   "source": [
    "## Tuples\n",
    "\n",
    "`Tuples` sind ähnlich wie `Lists`, nur können sie nachträglich nicht verändert werden. Das heisst, es ist nach der Erstellung keine Ergänzung von neuen Werten oder Löschung von bestehenden Werten möglich. `Tuples` werden mit runden Klammern (`(` und `)`) erstellt.\n",
    "\n",
    "Dieser Datentyp spielt im unserem Kurs *Coding in GIS* eine untergeorndete Rolle.\n"
   ]
  },
  {
   "cell_type": "code",
   "execution_count": 44,
   "metadata": {},
   "outputs": [],
   "source": [
    "gewinner = (1,2,3)"
   ]
  },
  {
   "cell_type": "code",
   "execution_count": 45,
   "metadata": {},
   "outputs": [
    {
     "data": {
      "text/plain": [
       "tuple"
      ]
     },
     "execution_count": 45,
     "metadata": {},
     "output_type": "execute_result"
    }
   ],
   "source": [
    "type(gewinner)"
   ]
  },
  {
   "cell_type": "markdown",
   "metadata": {},
   "source": [
    "## Sets\n",
    "\n",
    "`Sets` sind ähnlich wie `Dicts`, jedoch kommt jeder Wert nur 1x vor. Zudem verfügen `Sets` nicht über `keys` und `values`. Sie werden mit geschweiften Klammern (`{` und `}`) erstellt.\n",
    "\n",
    "Dieser Datentyp spielt im unserem Kurs *Coding in GIS* eine untergeorndete Rolle."
   ]
  },
  {
   "cell_type": "code",
   "execution_count": 46,
   "metadata": {},
   "outputs": [],
   "source": [
    "hexerei2 = {1,2,3,1,2,2,1,3}"
   ]
  },
  {
   "cell_type": "code",
   "execution_count": 47,
   "metadata": {},
   "outputs": [
    {
     "data": {
      "text/plain": [
       "{1, 2, 3}"
      ]
     },
     "execution_count": 47,
     "metadata": {},
     "output_type": "execute_result"
    }
   ],
   "source": [
    "hexerei2"
   ]
  },
  {
   "cell_type": "code",
   "execution_count": 49,
   "metadata": {},
   "outputs": [
    {
     "data": {
      "text/plain": [
       "set"
      ]
     },
     "execution_count": 49,
     "metadata": {},
     "output_type": "execute_result"
    }
   ],
   "source": [
    "type(hexerei2)"
   ]
  }
 ],
 "metadata": {
  "kernelspec": {
   "display_name": "Python 3",
   "language": "python",
   "name": "python3"
  },
  "language_info": {
   "codemirror_mode": {
    "name": "ipython",
    "version": 3
   },
   "file_extension": ".py",
   "mimetype": "text/x-python",
   "name": "python",
   "nbconvert_exporter": "python",
   "pygments_lexer": "ipython3",
   "version": "3.7.8"
  }
 },
 "nbformat": 4,
 "nbformat_minor": 4
}
