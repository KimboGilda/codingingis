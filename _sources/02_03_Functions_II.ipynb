{
 "cells": [
  {
   "cell_type": "markdown",
   "metadata": {},
   "source": [
    "# *Function* Advanced\n",
    "\n",
    "## Standart-Werten\n",
    "\n",
    "Wenn Parameter Default-Argumente zugewiesen werden, dann werden sie für den Nutzer automatisch zu optionalen Parametern. \n",
    "Wenn eine neue *Function* erstellt wird, kommen die Optionalen Parameter immer am Schluss. Also so:"
   ]
  },
  {
   "cell_type": "code",
   "execution_count": 11,
   "metadata": {},
   "outputs": [],
   "source": [
    "def gruezi(nachname, anrede = \"Herr oder Frau\"):\n",
    "    return(\"Guten Tag, \"+anrede+\" \"+nachname)"
   ]
  },
  {
   "cell_type": "markdown",
   "metadata": {},
   "source": [
    "Wenn wir versuchen die optionalen Parameter an den Anfang zu stellen, meldet sich Python mit einem Error:\n",
    "\n",
    "```python\n",
    "def gruezi(anrede = \"Herr oder Frau\", nachname):\n",
    "    return(\"Guten Tag, \"+anrede+\" \"+nachname)\n",
    "```"
   ]
  },
  {
   "cell_type": "markdown",
   "metadata": {},
   "source": [
    "````{error} \n",
    "```python\n",
    "File \"<ipython-input-12-b48869b8c585>\", line 1\n",
    "    def gruezi(anrede = \"Herr oder Frau\", nachname):\n",
    "              ^\n",
    "SyntaxError: non-default argument follows default argument\n",
    "```\n",
    "````"
   ]
  },
  {
   "cell_type": "markdown",
   "metadata": {},
   "source": [
    "## Reihenfolge der Argumente\n",
    "\n",
    "Wenn die richtige Reihenfolge eingehalten wird, müssen die Parameter (z.B: `anrede=`, `nachname=`) nicht spezifiziert werden. Zum Beispiel:"
   ]
  },
  {
   "cell_type": "code",
   "execution_count": 8,
   "metadata": {},
   "outputs": [
    {
     "data": {
      "text/plain": [
       "'Guten Tag, Herr van Rossum'"
      ]
     },
     "execution_count": 8,
     "metadata": {},
     "output_type": "execute_result"
    }
   ],
   "source": [
    "gruezi(\"van Rossum\", \"Herr\")"
   ]
  },
  {
   "cell_type": "markdown",
   "metadata": {},
   "source": [
    "Wenn wir die Reihenfolge verändern, ist der Output unserer Funktion fehlerhaft:"
   ]
  },
  {
   "cell_type": "code",
   "execution_count": null,
   "metadata": {},
   "outputs": [],
   "source": [
    "gruezi(\"Herr\",\"van Rossum\")"
   ]
  },
  {
   "cell_type": "markdown",
   "metadata": {},
   "source": [
    "Aber wenn die Parameter der Argumente spezifiziert werden, ist die Reihenfolge wiederum egal:"
   ]
  },
  {
   "cell_type": "code",
   "execution_count": 9,
   "metadata": {},
   "outputs": [
    {
     "data": {
      "text/plain": [
       "'Guten Tag, Herr von Rossum'"
      ]
     },
     "execution_count": 9,
     "metadata": {},
     "output_type": "execute_result"
    }
   ],
   "source": [
    "gruezi(anrede = \"Herr\", nachname = \"van Rossum\")"
   ]
  },
  {
   "cell_type": "markdown",
   "metadata": {},
   "source": [
    "## Globale und Lokale Variabeln\n",
    "\n",
    "Innerhalb einer *Function* können nur die Variabeln verwendet werden, die der *Function* als Argumente übergeben werden (oder innerhalb der *Funktion* erstellt werden). Diese nennt man \"lokale\" Variabeln, sie sind lokal in der *Function* vorhanden. Im Gegensatz dazu stehen \"globale\" Variabeln, diese sind Teil der aktuellen Session. Folgende Vorgehensweise erzeugt also eine Fehlermeldung:\n",
    "\n",
    "\n",
    "```python\n",
    "# Wir definieren globale Variabeln\n",
    "nachname = \"van Rossum\"\n",
    "anrede = \"Herr\"\n",
    "\n",
    "def gruezi(anrede = \"Herr oder Frau\", nachname):\n",
    "    # nun versuchen wir in der Function auf diese\n",
    "    # globalen Variabeln zu zu greifen\n",
    "    return(\"Guten Tag, \"+anrede+\" \"+nachname)\n",
    "\n",
    "gruezi()\n",
    "```\n",
    "\n",
    "Dies erzeugt jedoch eine Fehlermeldung:\n",
    "````{error}\n",
    "```python\n",
    "---------------------------------------------------------------------------\n",
    "TypeError                                 Traceback (most recent call last)\n",
    "<ipython-input-16-fc94d019a607> in <module>()\n",
    "      2 anrede = \"Herr\"\n",
    "      3 \n",
    "----> 4 gruezi()\n",
    "\n",
    "TypeError: gruezi() missing 1 required positional argument: 'nachname'\n",
    "```\n",
    "````"
   ]
  }
 ],
 "metadata": {
  "kernelspec": {
   "display_name": "Python 3",
   "language": "python",
   "name": "python3"
  },
  "language_info": {
   "codemirror_mode": {
    "name": "ipython",
    "version": 3
   },
   "file_extension": ".py",
   "mimetype": "text/x-python",
   "name": "python",
   "nbconvert_exporter": "python",
   "pygments_lexer": "ipython3",
   "version": "3.7.8"
  }
 },
 "nbformat": 4,
 "nbformat_minor": 4
}
