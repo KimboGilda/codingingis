{
 "cells": [
  {
   "cell_type": "markdown",
   "metadata": {},
   "source": [
    "# Aufgabe A: Primitive Datentypen und Lists"
   ]
  },
  {
   "cell_type": "markdown",
   "metadata": {},
   "source": [
    "## Übung 1: Variablen erstellen\n",
    "\n",
    "Wir beginnen damit, einfache Datentypen wie Zahlen, Text, boolsche Variabeln (siehe Vorlesungsfolien) sogenannten Variablen zu zuweisen. Führe die folgenden Schritte aus und schau dir nach jedem Schritt die erstellten Variablen jeweils im im Variable explorer von Spyder an"
   ]
  },
  {
   "cell_type": "markdown",
   "metadata": {},
   "source": [
    "1. Erstelle eine Variabel `vorname` mit deinem Vornamen\n",
    "2. Erstelle eine zweite Variabel `nachname` mit deinem Nachnamen\n",
    "3. Was sind `vorname` und `nachnam`e für Datentypen?\n",
    "4. Klebe die beiden Variabeln zusammen, ohne den Output zu speichern\n",
    "5. Erstelle eine Variabel `groesse` mit deiner Körpergrösse in Zentimeter. Was ist das für ein Datentyp?\n",
    "6. Ermittle deine Grösse in Meter auf der Basis von `groesse`. Was ist das für ein Datentyp?\n",
    "7. Erstelle eine boolsche Variable blond und setzte sie auf `True` wenn diese Eigenschaft auf dich zutrifft und `False` falls nicht. \n"
   ]
  },
  {
   "cell_type": "code",
   "execution_count": 6,
   "metadata": {
    "tags": [
     "hide-cell"
    ]
   },
   "outputs": [],
   "source": [
    "vorname = \"Guido\"\n",
    "nachname = \"van Rossum\"\n",
    "\n",
    "type(vorname) # es handelt sich um den Datentyp \"str\", also String (Text)\n",
    "vorname+nachname\n",
    "\n",
    "groesse = 184\n",
    "type(groesse) # es handelt sich hierbei um den Datentyp \"integer\"\n",
    "\n",
    "groesse_meter = groesse/100\n",
    "type(groesse_meter) # es handelt sich um den Datentyp \"float\"\n",
    "\n",
    "blond = False"
   ]
  },
  {
   "cell_type": "markdown",
   "metadata": {},
   "source": [
    "## Übung 2: Lists\n",
    "\n",
    "1. Erstelle eine Variable `vornamen` bestehend aus einer *List* mit 3 Vornamen\n",
    "2. Erstelle eine zweite Variable `nachnamen` bestehend aus einer *List* mit 3 Nachnamen\n",
    "3. Erstelle eine Variable `groessen` bestehend aus einer *List* mit 3 Grössenangaben in Zentimeter."
   ]
  },
  {
   "cell_type": "code",
   "execution_count": 7,
   "metadata": {
    "tags": [
     "hide-cell"
    ]
   },
   "outputs": [],
   "source": [
    "vornamen = [\"Christopher\", \"Henning\", \"Severin\"]\n",
    "nachnamen = [\"Annen\",\"May\", \"Kantereit\"]\n",
    "\n",
    "groessen = [174, 182, 162]"
   ]
  },
  {
   "cell_type": "markdown",
   "metadata": {},
   "source": [
    "## Übung 3: Elemente aus Liste ansprechen\n",
    "\n",
    "Wie erhältst du den ersten Eintrag in der Variable `vornamen`? Wie erhältst du den letzten Eintrag? Tipp: nutze dazu `[` und `]` sowie eine Zahl."
   ]
  },
  {
   "cell_type": "markdown",
   "metadata": {
    "tags": [
     "admonition"
    ]
   },
   "source": [
    "```{admonition} Für R Nutzer\n",
    ":class: tip\n",
    "In R werden Elemente aus Vectors auf die gleiche Weise extrahiert. Nur ist in R das erste Element die Nummer 1, Python beginnt bei 0\n",
    "```"
   ]
  },
  {
   "cell_type": "markdown",
   "metadata": {},
   "source": [
    "## Übung 4: Liste ergänzen\n",
    "\n",
    "Listen können durch der Method `append` ergänzt werden.\n"
   ]
  },
  {
   "cell_type": "code",
   "execution_count": 8,
   "metadata": {},
   "outputs": [],
   "source": [
    "vornamen.append(\"Malte\")"
   ]
  },
  {
   "cell_type": "markdown",
   "metadata": {},
   "source": [
    "Ergänze in die Listen `vornamen`, `nachnamen` und `groessen` durch je einen Eintrag."
   ]
  },
  {
   "cell_type": "code",
   "execution_count": 9,
   "metadata": {
    "tags": [
     "hide-cell"
    ]
   },
   "outputs": [],
   "source": [
    "nachnamen.append(\"Huck\")\n",
    "\n",
    "groessen.append(177)"
   ]
  }
 ],
 "metadata": {
  "kernelspec": {
   "display_name": "Python 3",
   "language": "python",
   "name": "python3"
  },
  "language_info": {
   "codemirror_mode": {
    "name": "ipython",
    "version": 3
   },
   "file_extension": ".py",
   "mimetype": "text/x-python",
   "name": "python",
   "nbconvert_exporter": "python",
   "pygments_lexer": "ipython3",
   "version": "3.7.8"
  }
 },
 "nbformat": 4,
 "nbformat_minor": 4
}
