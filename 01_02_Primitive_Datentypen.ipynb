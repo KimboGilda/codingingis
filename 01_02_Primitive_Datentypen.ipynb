{
 "cells": [
  {
   "cell_type": "markdown",
   "metadata": {},
   "source": [
    "# Primitive Datentypen\n",
    "\n",
    "Bei primitiven Datentypen handelt es sich um die kleinste Einheit der Programmiersprache, sie werden deshalb auch \"atomare Datentypen\" genannt. Alle komplexeren Datentypen (Tabellarische Daten, Bilder, Geodaten) basieren auf diesen einfachen Strukturen. Die für uns wichtigsten Datentypen lauten: *Boolean*, *String*, *Integer* und *Float*.\n",
    "\n",
    "\n",
    "```{admonition} Für R Nutzer\n",
    ":class: tip\n",
    "- In R gibt es die gleichen Primitiven Datentypen wie in Python:\n",
    "\n",
    "| Python  \t| R         \t|\n",
    "|---------\t|-----------\t|\n",
    "| Boolean \t| Logical   \t|\n",
    "| String  \t| Character \t|\n",
    "| Integer \t| Integer   \t|\n",
    "| Float   \t| Double    \t|\n",
    "\n",
    "```\n"
   ]
  },
  {
   "cell_type": "markdown",
   "metadata": {},
   "source": [
    "## Boolean\n",
    "\n",
    "Hierbei handelt es sich um den einfachsten Datentyp. Er beinhaltet nur zwei Zustände: Wahr oder Falsch. In Python werden diese mit `True` oder `False` definiert. Beispielsweise sind das Antworten auf geschlossene Fragen.\n"
   ]
  },
  {
   "cell_type": "code",
   "execution_count": 3,
   "metadata": {},
   "outputs": [],
   "source": [
    "regen = True"
   ]
  },
  {
   "cell_type": "code",
   "execution_count": 1,
   "metadata": {},
   "outputs": [
    {
     "data": {
      "text/plain": [
       "bool"
      ]
     },
     "execution_count": 1,
     "metadata": {},
     "output_type": "execute_result"
    }
   ],
   "source": [
    "sonne = False\n",
    "\n",
    "type(sonne)"
   ]
  },
  {
   "cell_type": "code",
   "execution_count": null,
   "metadata": {},
   "outputs": [],
   "source": []
  },
  {
   "cell_type": "markdown",
   "metadata": {},
   "source": [
    "## String\n",
    "\n",
    "In sogenannten *Strings* werden Textinformationen gespeichert. Beispielsweise können das die Namen von Ortschaften sein."
   ]
  },
  {
   "cell_type": "code",
   "execution_count": 13,
   "metadata": {},
   "outputs": [],
   "source": [
    "stadt = \"Bern\"\n",
    "land = \"Schweiz\""
   ]
  },
  {
   "cell_type": "code",
   "execution_count": 14,
   "metadata": {},
   "outputs": [
    {
     "data": {
      "text/plain": [
       "str"
      ]
     },
     "execution_count": 14,
     "metadata": {},
     "output_type": "execute_result"
    }
   ],
   "source": [
    "type(stadt)"
   ]
  },
  {
   "cell_type": "markdown",
   "metadata": {},
   "source": [
    "Strings können mit `+` miteinander verbunden werden"
   ]
  },
  {
   "cell_type": "code",
   "execution_count": 9,
   "metadata": {},
   "outputs": [
    {
     "data": {
      "text/plain": [
       "'Bern ist die Hauptstadt der Schweiz'"
      ]
     },
     "execution_count": 9,
     "metadata": {},
     "output_type": "execute_result"
    }
   ],
   "source": [
    "stadt +\" ist die Hauptstadt der \" + land"
   ]
  },
  {
   "cell_type": "markdown",
   "metadata": {},
   "source": [
    "## Integer\n",
    "\n",
    "In Integerwerten werden ganzzahlige Werte gespeichert, beispielsweise die Anzahl Einwohner einer Stadt. "
   ]
  },
  {
   "cell_type": "code",
   "execution_count": 16,
   "metadata": {},
   "outputs": [],
   "source": [
    "bern_einwohner = 133115"
   ]
  },
  {
   "cell_type": "code",
   "execution_count": 17,
   "metadata": {},
   "outputs": [
    {
     "data": {
      "text/plain": [
       "int"
      ]
     },
     "execution_count": 17,
     "metadata": {},
     "output_type": "execute_result"
    }
   ],
   "source": [
    "type(bern_einwohner)"
   ]
  },
  {
   "cell_type": "markdown",
   "metadata": {},
   "source": [
    "## Float\n",
    "\n",
    "Als `Float` werden Zahlen mit Nachkommastellen gespeichert, wie zum Beispiel die Temeratur in Grad Celsius."
   ]
  },
  {
   "cell_type": "code",
   "execution_count": 18,
   "metadata": {},
   "outputs": [],
   "source": [
    "bern_temp = 22.5"
   ]
  },
  {
   "cell_type": "code",
   "execution_count": 2,
   "metadata": {},
   "outputs": [
    {
     "ename": "NameError",
     "evalue": "name 'bern_temp' is not defined",
     "output_type": "error",
     "traceback": [
      "\u001b[0;31m---------------------------------------------------------------------------\u001b[0m",
      "\u001b[0;31mNameError\u001b[0m                                 Traceback (most recent call last)",
      "\u001b[0;32m<ipython-input-2-a1b8ff475f09>\u001b[0m in \u001b[0;36m<module>\u001b[0;34m()\u001b[0m\n\u001b[0;32m----> 1\u001b[0;31m \u001b[0mtype\u001b[0m\u001b[0;34m(\u001b[0m\u001b[0mbern_temp\u001b[0m\u001b[0;34m)\u001b[0m\u001b[0;34m\u001b[0m\u001b[0;34m\u001b[0m\u001b[0m\n\u001b[0m",
      "\u001b[0;31mNameError\u001b[0m: name 'bern_temp' is not defined"
     ]
    }
   ],
   "source": [
    "type(bern_temp)"
   ]
  },
  {
   "cell_type": "markdown",
   "metadata": {},
   "source": [
    "## Übung: Variablen erstellen\n",
    "\n",
    "Führe die folgenden Schritte aus und schau dir nach jedem Schritt die erstellten Variablen jeweils im im Variable explorer von Jupyter an\n",
    "\n",
    "1. Erstelle eine Variabel `vorname` mit deinem Vornamen\n",
    "2. Erstelle eine zweite Variabel `nachname` mit deinem Nachnamen\n",
    "3. Was sind `vorname` und `nachname` für Datentypen?\n",
    "4. Klebe die beiden Variabeln zusammen, ohne den Output zu speichern\n",
    "5. Erstelle eine Variabel `groesse` mit deiner Körpergrösse in Zentimeter. Was ist das für ein Datentyp?\n",
    "6. Ermittle deine Grösse in Meter auf der Basis von `groesse`. Was ist das für ein Datentyp?\n",
    "7. Erstelle eine boolsche Variable blond und setzte sie auf `True` wenn diese Eigenschaft auf dich zutrifft und `False` falls nicht. \n"
   ]
  },
  {
   "cell_type": "code",
   "execution_count": null,
   "metadata": {
    "tags": [
     "hide-cell"
    ]
   },
   "outputs": [],
   "source": [
    "# Musterlösung\n",
    "\n",
    "vorname = \"Guido\"\n",
    "nachname = \"van Rossum\"\n",
    "\n",
    "type(vorname) # es handelt sich um den Datentyp \"str\", also String (Text)\n",
    "vorname+nachname\n",
    "\n",
    "groesse = 184\n",
    "type(groesse) # es handelt sich hierbei um den Datentyp \"integer\"\n",
    "\n",
    "groesse_meter = groesse/100\n",
    "type(groesse_meter) # es handelt sich um den Datentyp \"float\"\n",
    "\n",
    "blond = False"
   ]
  }
 ],
 "metadata": {
  "kernelspec": {
   "display_name": "Python 3",
   "language": "python",
   "name": "python3"
  },
  "language_info": {
   "codemirror_mode": {
    "name": "ipython",
    "version": 3
   },
   "file_extension": ".py",
   "mimetype": "text/x-python",
   "name": "python",
   "nbconvert_exporter": "python",
   "pygments_lexer": "ipython3",
   "version": "3.8.2"
  }
 },
 "nbformat": 4,
 "nbformat_minor": 4
}
