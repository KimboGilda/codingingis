{
 "cells": [
  {
   "cell_type": "markdown",
   "metadata": {},
   "source": [
    "# GIS in Python\n",
    "\n",
    "Die bisherigen Aufgaben hatten noch nicht viel mit GIS zu tun. Die Koordinaten der Zeckenstiche sind uns zwar bekannt, es handelt es dabei aber lediglich um Numerische xy-Werte, nicht um Geometrische Punkte mit einem Raumbezug. So bleiben uns bis jetzt alle räumlichen Operationen vorenthalten (zum Beispiel ob sich ein Stich im Wald befindet oder nicht), und wir können auch keine schönen Karten generieren. \n",
    "\n",
    "Um mit Geodaten in Python arbeiten zu können, müssen wir ein neues Modul importieren. Im Grunde genommen sind Vektordaten nicht mehr als Tabellen mit einer zusätzlichen \"Geometrie\"-Spalte, dementsprechend baut die \"Geo\"-Erweiterung auf `pandas` auf und heisst: `geopandas`. \n",
    "\n",
    "Du solltest `geopandas` bereits installiert haben und das Modul in dein Script importieren. Importiere `geopandas` mit dem Alias `gpd`. \n"
   ]
  },
  {
   "cell_type": "markdown",
   "metadata": {},
   "source": [
    "## Übung 1: *DataFrame* zu *GeoDataFrame*"
   ]
  },
  {
   "cell_type": "markdown",
   "metadata": {},
   "source": [
    "Wie erwähnt sind die Zeckenstichdaten bisher lediglich als tabellarische Daten vorhanden. In ArcGIS Terminologie müssen wir die Operation \"[XY Table to Point](https://pro.arcgis.com/de/pro-app/tool-reference/data-management/xy-table-to-point.htm)\" durchführen. In Python heisst das: Wir wandeln eine *DataFrame* in eine *GeoDataFrame* um. Zuerst erstellen wir eine Geometrie-Spalte aus den xy-Koordinaten mit der Funktion `points_from_xy` aus dem Modul `geopandas`."
   ]
  },
  {
   "cell_type": "code",
   "execution_count": 22,
   "metadata": {
    "tags": [
     "remove-cell"
    ]
   },
   "outputs": [],
   "source": [
    "import pandas as pd\n",
    "zeckenstiche = pd.read_csv(\"zeckenstiche.csv\")\n",
    "\n",
    "import geopandas as gpd"
   ]
  },
  {
   "cell_type": "code",
   "execution_count": 23,
   "metadata": {},
   "outputs": [],
   "source": [
    "zeckenstiche[\"geometry\"] = gpd.points_from_xy(zeckenstiche.x, zeckenstiche.y)"
   ]
  },
  {
   "cell_type": "markdown",
   "metadata": {},
   "source": [
    "Der Datensatz `zeckenstiche` hat jetzt aber noch nicht begriffen, dass es jetzt eine `GeoDataFrame` ist. Dies müssen wir dem Objekt erst noch mitteilen:"
   ]
  },
  {
   "cell_type": "code",
   "execution_count": 24,
   "metadata": {},
   "outputs": [
    {
     "data": {
      "text/html": [
       "<div>\n",
       "<style scoped>\n",
       "    .dataframe tbody tr th:only-of-type {\n",
       "        vertical-align: middle;\n",
       "    }\n",
       "\n",
       "    .dataframe tbody tr th {\n",
       "        vertical-align: top;\n",
       "    }\n",
       "\n",
       "    .dataframe thead th {\n",
       "        text-align: right;\n",
       "    }\n",
       "</style>\n",
       "<table border=\"1\" class=\"dataframe\">\n",
       "  <thead>\n",
       "    <tr style=\"text-align: right;\">\n",
       "      <th></th>\n",
       "      <th>ID</th>\n",
       "      <th>accuracy</th>\n",
       "      <th>x</th>\n",
       "      <th>y</th>\n",
       "      <th>geometry</th>\n",
       "    </tr>\n",
       "  </thead>\n",
       "  <tbody>\n",
       "    <tr>\n",
       "      <th>0</th>\n",
       "      <td>0</td>\n",
       "      <td>65.617154</td>\n",
       "      <td>2678971.0</td>\n",
       "      <td>1240824.0</td>\n",
       "      <td>POINT (2678971.000 1240824.000)</td>\n",
       "    </tr>\n",
       "    <tr>\n",
       "      <th>1</th>\n",
       "      <td>1</td>\n",
       "      <td>257.492052</td>\n",
       "      <td>2679837.0</td>\n",
       "      <td>1240858.0</td>\n",
       "      <td>POINT (2679837.000 1240858.000)</td>\n",
       "    </tr>\n",
       "    <tr>\n",
       "      <th>2</th>\n",
       "      <td>2</td>\n",
       "      <td>163.533834</td>\n",
       "      <td>2687539.0</td>\n",
       "      <td>1240881.0</td>\n",
       "      <td>POINT (2687539.000 1240881.000)</td>\n",
       "    </tr>\n",
       "    <tr>\n",
       "      <th>3</th>\n",
       "      <td>3</td>\n",
       "      <td>185.000000</td>\n",
       "      <td>2674848.0</td>\n",
       "      <td>1240913.0</td>\n",
       "      <td>POINT (2674848.000 1240913.000)</td>\n",
       "    </tr>\n",
       "    <tr>\n",
       "      <th>4</th>\n",
       "      <td>4</td>\n",
       "      <td>228.215231</td>\n",
       "      <td>2681771.0</td>\n",
       "      <td>1240922.0</td>\n",
       "      <td>POINT (2681771.000 1240922.000)</td>\n",
       "    </tr>\n",
       "    <tr>\n",
       "      <th>...</th>\n",
       "      <td>...</td>\n",
       "      <td>...</td>\n",
       "      <td>...</td>\n",
       "      <td>...</td>\n",
       "      <td>...</td>\n",
       "    </tr>\n",
       "    <tr>\n",
       "      <th>1071</th>\n",
       "      <td>1071</td>\n",
       "      <td>109.531946</td>\n",
       "      <td>2678005.0</td>\n",
       "      <td>1257344.0</td>\n",
       "      <td>POINT (2678005.000 1257344.000)</td>\n",
       "    </tr>\n",
       "    <tr>\n",
       "      <th>1072</th>\n",
       "      <td>1072</td>\n",
       "      <td>100.489274</td>\n",
       "      <td>2678005.0</td>\n",
       "      <td>1257347.0</td>\n",
       "      <td>POINT (2678005.000 1257347.000)</td>\n",
       "    </tr>\n",
       "    <tr>\n",
       "      <th>1073</th>\n",
       "      <td>1073</td>\n",
       "      <td>301.748529</td>\n",
       "      <td>2689893.0</td>\n",
       "      <td>1257351.0</td>\n",
       "      <td>POINT (2689893.000 1257351.000)</td>\n",
       "    </tr>\n",
       "    <tr>\n",
       "      <th>1074</th>\n",
       "      <td>1074</td>\n",
       "      <td>301.748542</td>\n",
       "      <td>2690668.0</td>\n",
       "      <td>1257369.0</td>\n",
       "      <td>POINT (2690668.000 1257369.000)</td>\n",
       "    </tr>\n",
       "    <tr>\n",
       "      <th>1075</th>\n",
       "      <td>1075</td>\n",
       "      <td>226.000000</td>\n",
       "      <td>2682852.0</td>\n",
       "      <td>1257531.0</td>\n",
       "      <td>POINT (2682852.000 1257531.000)</td>\n",
       "    </tr>\n",
       "  </tbody>\n",
       "</table>\n",
       "<p>1076 rows × 5 columns</p>\n",
       "</div>"
      ],
      "text/plain": [
       "        ID    accuracy          x          y                         geometry\n",
       "0        0   65.617154  2678971.0  1240824.0  POINT (2678971.000 1240824.000)\n",
       "1        1  257.492052  2679837.0  1240858.0  POINT (2679837.000 1240858.000)\n",
       "2        2  163.533834  2687539.0  1240881.0  POINT (2687539.000 1240881.000)\n",
       "3        3  185.000000  2674848.0  1240913.0  POINT (2674848.000 1240913.000)\n",
       "4        4  228.215231  2681771.0  1240922.0  POINT (2681771.000 1240922.000)\n",
       "...    ...         ...        ...        ...                              ...\n",
       "1071  1071  109.531946  2678005.0  1257344.0  POINT (2678005.000 1257344.000)\n",
       "1072  1072  100.489274  2678005.0  1257347.0  POINT (2678005.000 1257347.000)\n",
       "1073  1073  301.748529  2689893.0  1257351.0  POINT (2689893.000 1257351.000)\n",
       "1074  1074  301.748542  2690668.0  1257369.0  POINT (2690668.000 1257369.000)\n",
       "1075  1075  226.000000  2682852.0  1257531.0  POINT (2682852.000 1257531.000)\n",
       "\n",
       "[1076 rows x 5 columns]"
      ]
     },
     "execution_count": 24,
     "metadata": {},
     "output_type": "execute_result"
    }
   ],
   "source": [
    "zeckenstiche = gpd.GeoDataFrame(zeckenstiche)\n",
    "\n",
    "zeckenstiche"
   ]
  },
  {
   "cell_type": "markdown",
   "metadata": {},
   "source": [
    "Jetzt, wo zeckenstiche eine GeoDataFrame ist, gibt es einen einfachen weg die Punkte räumlich zu visualisieren:"
   ]
  },
  {
   "cell_type": "code",
   "execution_count": 25,
   "metadata": {},
   "outputs": [
    {
     "data": {
      "text/plain": [
       "<AxesSubplot:>"
      ]
     },
     "execution_count": 25,
     "metadata": {},
     "output_type": "execute_result"
    },
    {
     "data": {
      "image/png": "[encoded data removed]",
      "text/plain": [
       "<Figure size 432x288 with 1 Axes>"
      ]
     },
     "metadata": {
      "needs_background": "light"
     },
     "output_type": "display_data"
    }
   ],
   "source": [
    "zeckenstiche.plot()"
   ]
  },
  {
   "cell_type": "markdown",
   "metadata": {},
   "source": [
    "## Übung 2: Koordinatensystem festlegen\n",
    "\n",
    "Wir wissen zwar, das unsere *GeoDataFrame* in Schweizer Landeskoordinaten (CH1903 LV95) zu verstehen ist, aber dies haben wir noch nirgends festgehalten. Das Koordinatensystem (Coordinate Reference System, CRS) können wir über das Attribut `crs` der *GeoDataFrame* festhalten. Das Koordinatensystem CH1903 LV95 hat den EPSG Code 2056, demnach muss das CRS folgendermassen festgelegt werden:\n"
   ]
  },
  {
   "cell_type": "code",
   "execution_count": 34,
   "metadata": {},
   "outputs": [],
   "source": [
    "zeckenstiche = zeckenstiche.set_crs(epsg = 2056)"
   ]
  },
  {
   "cell_type": "markdown",
   "metadata": {},
   "source": [
    "Nun ist das Koordinatensystem (*CRS*) als Attribut der *GeoDataFrame* gespeichert:"
   ]
  },
  {
   "cell_type": "code",
   "execution_count": 31,
   "metadata": {},
   "outputs": [
    {
     "data": {
      "text/plain": [
       "<Projected CRS: EPSG:2056>\n",
       "Name: CH1903+ / LV95\n",
       "Axis Info [cartesian]:\n",
       "- E[east]: Easting (metre)\n",
       "- N[north]: Northing (metre)\n",
       "Area of Use:\n",
       "- name: Europe - Liechtenstein and Switzerland\n",
       "- bounds: (5.96, 45.82, 10.49, 47.81)\n",
       "Coordinate Operation:\n",
       "- name: Swiss Oblique Mercator 1995\n",
       "- method: Hotine Oblique Mercator (variant B)\n",
       "Datum: CH1903+\n",
       "- Ellipsoid: Bessel 1841\n",
       "- Prime Meridian: Greenwich"
      ]
     },
     "execution_count": 31,
     "metadata": {},
     "output_type": "execute_result"
    }
   ],
   "source": [
    "zeckenstiche.crs"
   ]
  },
  {
   "cell_type": "markdown",
   "metadata": {},
   "source": [
    "## Übung 3: Zeckenstiche als Shapefile exportieren\n",
    "\n",
    "Zum Schluss exportieren wir unser Datensatz in ein Shapefile, damit wir das nächste Mal direkt mit einer *GeoDataFrame* arbeiten können. Genau wie wir in einer vorherigen Übung eine pandas DataFrame mit `.to_csv` in eine csv exportiert haben, gibt es für GeoDataFrames die Methode `.to_file`. Exportiere zeckenstiche mit dieser Methode in eine Shapefile."
   ]
  },
  {
   "cell_type": "code",
   "execution_count": 32,
   "metadata": {
    "tags": [
     "hide-cell"
    ]
   },
   "outputs": [],
   "source": [
    "zeckenstiche.to_file(\"zeckenstiche.shp\")"
   ]
  }
 ],
 "metadata": {
  "kernelspec": {
   "display_name": "Python 3",
   "language": "python",
   "name": "python3"
  },
  "language_info": {
   "codemirror_mode": {
    "name": "ipython",
    "version": 3
   },
   "file_extension": ".py",
   "mimetype": "text/x-python",
   "name": "python",
   "nbconvert_exporter": "python",
   "pygments_lexer": "ipython3",
   "version": "3.7.8"
  }
 },
 "nbformat": 4,
 "nbformat_minor": 4
}
