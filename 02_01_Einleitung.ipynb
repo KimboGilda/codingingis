{
 "cells": [
  {
   "cell_type": "markdown",
   "metadata": {},
   "source": [
    "# Einleitung zu diesem Block\n",
    "\n",
    "Letzte Woche habt ihr Jupyter Labs kennen gelernt und erste Kontakte mit Python gehabt. Um den Einsteig möglichst einfach zu halten habt ihr bisher auf dem ZHAW Jupyter-Lab Server (JupyterHub) gearbeitet. Diese Woche wollen wir versuchen, dass ihr lokal auf euren eigenen Rechnern arbeitet. So lernt ein Programm kennen, welches sich ausschliesslich aus der Commandozeile bedienen lässt. Ihr lernt zudem, wie man durch das setzen der Systemvariabel ein solches Programm in der Kommandozeile verfügbar macht. \n",
    "\n",
    "Wenn dieser Schritt erfolgt ist lernt ihr Python Module besser kennen und wie sich deren Handhabung von R unterscheidet. Später schauen wir uns Funktionen genauer an: Was sie brauchen, wie man sie erstellt und vor allem wie man sie nutzt.\n",
    "\n",
    "\n"
   ]
  },
  {
   "cell_type": "markdown",
   "metadata": {},
   "source": [
    "```{admonition} Übungsziele\n",
    ":class: attention\n",
    "- Conda beherrschen\n",
    "  - neue *Environment* erstellen\n",
    "  - *Modules* in eine *Environment* installieren\n",
    "  - *Jupyter Lab* in einer *Environment* nutzen\n",
    "- *Functions* kennenlernen und beherrschen\n",
    "- *Function* auf eine ganze Spalte einer DataFrame anwenden können.\n",
    "```"
   ]
  }
 ],
 "metadata": {
  "kernelspec": {
   "display_name": "Python 3",
   "language": "python",
   "name": "python3"
  },
  "language_info": {
   "codemirror_mode": {
    "name": "ipython",
    "version": 3
   },
   "file_extension": ".py",
   "mimetype": "text/x-python",
   "name": "python",
   "nbconvert_exporter": "python",
   "pygments_lexer": "ipython3",
   "version": "3.7.8"
  }
 },
 "nbformat": 4,
 "nbformat_minor": 4
}
