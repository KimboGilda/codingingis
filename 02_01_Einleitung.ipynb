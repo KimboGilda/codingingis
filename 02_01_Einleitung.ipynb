{
 "cells": [
  {
   "cell_type": "markdown",
   "metadata": {},
   "source": [
    "# Einleitung zu diesem Block\n",
    "\n",
    "Letzte Woche haben wir einen weiten Bogen gespannt: Von einfachen (primitiven) Datentypen bis hin zu tabellarischen Daten.\n"
   ]
  },
  {
   "cell_type": "markdown",
   "metadata": {},
   "source": [
    "```{admonition} Übungsziele\n",
    ":class: attention\n",
    "- Conda beherrschen\n",
    "  - neue *Environment* erstellen\n",
    "  - *Modules* in eine *Environment* installieren\n",
    "  - *Jupyter Lab* in einer *Environment* nutzen\n",
    "- *Functions* kennenlernen und beherrschen\n",
    "- *Function* auf eine ganze Spalte einer DataFrame anwenden können.\n",
    "```"
   ]
  }
 ],
 "metadata": {
  "kernelspec": {
   "display_name": "Python 3",
   "language": "python",
   "name": "python3"
  },
  "language_info": {
   "codemirror_mode": {
    "name": "ipython",
    "version": 3
   },
   "file_extension": ".py",
   "mimetype": "text/x-python",
   "name": "python",
   "nbconvert_exporter": "python",
   "pygments_lexer": "ipython3",
   "version": "3.7.8"
  }
 },
 "nbformat": 4,
 "nbformat_minor": 4
}
