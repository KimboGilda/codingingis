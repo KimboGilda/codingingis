{
 "cells": [
  {
   "cell_type": "markdown",
   "metadata": {},
   "source": [
    "# ⚒ Punkte einer *DataFrame* zufällig verschieben\n",
    "\n",
    "Jetzt wo wir wissen, wie man einen einzelnen Punkt zufällig verschiebt können wir unsere *Function* auf die richtigen Daten, die Zeckenstiche, anwenden. Die ist Schritt 2 in unserem Schema:\n",
    "\n",
    "- Schritt 1: Einen Einzelpunkt zufällig verschieben ✓\n",
    "- **Schritt 2: Alle Punkte einer DataFrame zufällig verschieben (1 \"Run\")**\n",
    "- Schritt 3: Alle Punkte einer DataFrame mehrfach zufällig verschieben (z.B. 50 \"Runs\")\n",
    "- Schritt 4: Anteil der Punkte im Wald pro \"Run\" ermitteln\n",
    "- Schritt 5: Verteilung dieser Mittelwerte visualisieren \n",
    "\n",
    "Lade hierzu die nötigen Module und importiere die Zeckenstichdaten"
   ]
  },
  {
   "cell_type": "code",
   "execution_count": 21,
   "metadata": {},
   "outputs": [
    {
     "data": {
      "text/html": [
       "<div>\n",
       "<style scoped>\n",
       "    .dataframe tbody tr th:only-of-type {\n",
       "        vertical-align: middle;\n",
       "    }\n",
       "\n",
       "    .dataframe tbody tr th {\n",
       "        vertical-align: top;\n",
       "    }\n",
       "\n",
       "    .dataframe thead th {\n",
       "        text-align: right;\n",
       "    }\n",
       "</style>\n",
       "<table border=\"1\" class=\"dataframe\">\n",
       "  <thead>\n",
       "    <tr style=\"text-align: right;\">\n",
       "      <th></th>\n",
       "      <th>ID</th>\n",
       "      <th>accuracy</th>\n",
       "      <th>x</th>\n",
       "      <th>y</th>\n",
       "    </tr>\n",
       "  </thead>\n",
       "  <tbody>\n",
       "    <tr>\n",
       "      <th>0</th>\n",
       "      <td>0</td>\n",
       "      <td>65.617154</td>\n",
       "      <td>2678971.0</td>\n",
       "      <td>1240824.0</td>\n",
       "    </tr>\n",
       "    <tr>\n",
       "      <th>1</th>\n",
       "      <td>1</td>\n",
       "      <td>257.492052</td>\n",
       "      <td>2679837.0</td>\n",
       "      <td>1240858.0</td>\n",
       "    </tr>\n",
       "    <tr>\n",
       "      <th>2</th>\n",
       "      <td>2</td>\n",
       "      <td>163.533834</td>\n",
       "      <td>2687539.0</td>\n",
       "      <td>1240881.0</td>\n",
       "    </tr>\n",
       "    <tr>\n",
       "      <th>3</th>\n",
       "      <td>3</td>\n",
       "      <td>185.000000</td>\n",
       "      <td>2674848.0</td>\n",
       "      <td>1240913.0</td>\n",
       "    </tr>\n",
       "    <tr>\n",
       "      <th>4</th>\n",
       "      <td>4</td>\n",
       "      <td>228.215231</td>\n",
       "      <td>2681771.0</td>\n",
       "      <td>1240922.0</td>\n",
       "    </tr>\n",
       "    <tr>\n",
       "      <th>5</th>\n",
       "      <td>5</td>\n",
       "      <td>257.492053</td>\n",
       "      <td>2690119.0</td>\n",
       "      <td>1240932.0</td>\n",
       "    </tr>\n",
       "    <tr>\n",
       "      <th>6</th>\n",
       "      <td>6</td>\n",
       "      <td>17.951638</td>\n",
       "      <td>2678477.0</td>\n",
       "      <td>1240956.0</td>\n",
       "    </tr>\n",
       "    <tr>\n",
       "      <th>7</th>\n",
       "      <td>7</td>\n",
       "      <td>287.211395</td>\n",
       "      <td>2687505.0</td>\n",
       "      <td>1241029.0</td>\n",
       "    </tr>\n",
       "    <tr>\n",
       "      <th>8</th>\n",
       "      <td>8</td>\n",
       "      <td>301.748542</td>\n",
       "      <td>2681288.0</td>\n",
       "      <td>1241081.0</td>\n",
       "    </tr>\n",
       "    <tr>\n",
       "      <th>9</th>\n",
       "      <td>9</td>\n",
       "      <td>301.748542</td>\n",
       "      <td>2681268.0</td>\n",
       "      <td>1241111.0</td>\n",
       "    </tr>\n",
       "  </tbody>\n",
       "</table>\n",
       "</div>"
      ],
      "text/plain": [
       "   ID    accuracy          x          y\n",
       "0   0   65.617154  2678971.0  1240824.0\n",
       "1   1  257.492052  2679837.0  1240858.0\n",
       "2   2  163.533834  2687539.0  1240881.0\n",
       "3   3  185.000000  2674848.0  1240913.0\n",
       "4   4  228.215231  2681771.0  1240922.0\n",
       "5   5  257.492053  2690119.0  1240932.0\n",
       "6   6   17.951638  2678477.0  1240956.0\n",
       "7   7  287.211395  2687505.0  1241029.0\n",
       "8   8  301.748542  2681288.0  1241081.0\n",
       "9   9  301.748542  2681268.0  1241111.0"
      ]
     },
     "execution_count": 21,
     "metadata": {},
     "output_type": "execute_result"
    }
   ],
   "source": [
    "import pandas as pd\n",
    "import random\n",
    "\n",
    "def offset_coordinate(old, distance = 100):\n",
    "    new = old + random.normalvariate(0,distance)\n",
    "\n",
    "    return(new)\n",
    "\n",
    "# mit \"head(10)\" importiere ich nur die ersten 10 Einträge des CSV. So kann ich den Workflow erstmal an einem kleineren Datensatz testen.\n",
    "zeckenstiche = pd.read_csv(\"zeckenstiche.csv\").head(10)\n",
    "\n",
    "\n",
    "zeckenstiche"
   ]
  },
  {
   "cell_type": "markdown",
   "metadata": {},
   "source": [
    "## Übung 1: Alle Zeckenstiche zufällig verschieben\n",
    "\n",
    "Um in *DataFrames* / *GeoDataFrames* ganze Spalten oder Zeilen zu verändern, stehen einem die *Methods* `map`, `apply` und `applymap` zur Verfügung. Es lohnt sich sehr, die verschiedenen Anwendungsbereiche dieser *Methods* kennen zu lernen, doch das würde den Umfang dieses Kurses überschreiten. Heute brauchen wir lediglich `apply`, welches wir einmal auf die `x`- und einmal auf die `y`-Spalte unserer *DataFrame* anwenden. \n",
    "Um unsere eigene Function `offset_coordinate` auf die Spalten anzuwenden gehst du wie folgt vor: Selektiere die entsprechende Spalte (mit `[\"spaltenname\"]`) und verwende die Method apply mit der selbst erstellt Function point_offset als einziges Argument, und zwar ohne Klammer. "
   ]
  },
  {
   "cell_type": "code",
   "execution_count": 10,
   "metadata": {
    "tags": [
     "hide-cell"
    ]
   },
   "outputs": [
    {
     "data": {
      "text/plain": [
       "0    1.240936e+06\n",
       "1    1.240802e+06\n",
       "2    1.240812e+06\n",
       "3    1.240744e+06\n",
       "4    1.240842e+06\n",
       "Name: y, dtype: float64"
      ]
     },
     "execution_count": 10,
     "metadata": {},
     "output_type": "execute_result"
    }
   ],
   "source": [
    "# Musterlösung\n",
    "\n",
    "zeckenstiche[\"x\"].apply(offset_coordinate)\n",
    "zeckenstiche[\"y\"].apply(offset_coordinate)"
   ]
  },
  {
   "cell_type": "markdown",
   "metadata": {},
   "source": [
    "## Übung 2: Neue GeoDataFrame mit simulierten Punkten erstellen\n",
    "\n",
    "Was bei `apply()` rauskommt, sind nur die neuen, verschobenen Punkte. Um diese abzuspeichern erstellen wir neue Spalten in `zeckenstiche` namen `x_sim`/`y_sim`:"
   ]
  },
  {
   "cell_type": "code",
   "execution_count": 23,
   "metadata": {
    "tags": [
     "hide-input"
    ]
   },
   "outputs": [
    {
     "data": {
      "text/html": [
       "<div>\n",
       "<style scoped>\n",
       "    .dataframe tbody tr th:only-of-type {\n",
       "        vertical-align: middle;\n",
       "    }\n",
       "\n",
       "    .dataframe tbody tr th {\n",
       "        vertical-align: top;\n",
       "    }\n",
       "\n",
       "    .dataframe thead th {\n",
       "        text-align: right;\n",
       "    }\n",
       "</style>\n",
       "<table border=\"1\" class=\"dataframe\">\n",
       "  <thead>\n",
       "    <tr style=\"text-align: right;\">\n",
       "      <th></th>\n",
       "      <th>ID</th>\n",
       "      <th>accuracy</th>\n",
       "      <th>x</th>\n",
       "      <th>y</th>\n",
       "      <th>x_sim</th>\n",
       "      <th>y_sim</th>\n",
       "    </tr>\n",
       "  </thead>\n",
       "  <tbody>\n",
       "    <tr>\n",
       "      <th>0</th>\n",
       "      <td>0</td>\n",
       "      <td>65.617154</td>\n",
       "      <td>2678971.0</td>\n",
       "      <td>1240824.0</td>\n",
       "      <td>2.678872e+06</td>\n",
       "      <td>1.241000e+06</td>\n",
       "    </tr>\n",
       "    <tr>\n",
       "      <th>1</th>\n",
       "      <td>1</td>\n",
       "      <td>257.492052</td>\n",
       "      <td>2679837.0</td>\n",
       "      <td>1240858.0</td>\n",
       "      <td>2.679613e+06</td>\n",
       "      <td>1.240965e+06</td>\n",
       "    </tr>\n",
       "    <tr>\n",
       "      <th>2</th>\n",
       "      <td>2</td>\n",
       "      <td>163.533834</td>\n",
       "      <td>2687539.0</td>\n",
       "      <td>1240881.0</td>\n",
       "      <td>2.687497e+06</td>\n",
       "      <td>1.241049e+06</td>\n",
       "    </tr>\n",
       "    <tr>\n",
       "      <th>3</th>\n",
       "      <td>3</td>\n",
       "      <td>185.000000</td>\n",
       "      <td>2674848.0</td>\n",
       "      <td>1240913.0</td>\n",
       "      <td>2.674818e+06</td>\n",
       "      <td>1.240775e+06</td>\n",
       "    </tr>\n",
       "    <tr>\n",
       "      <th>4</th>\n",
       "      <td>4</td>\n",
       "      <td>228.215231</td>\n",
       "      <td>2681771.0</td>\n",
       "      <td>1240922.0</td>\n",
       "      <td>2.681765e+06</td>\n",
       "      <td>1.240570e+06</td>\n",
       "    </tr>\n",
       "    <tr>\n",
       "      <th>5</th>\n",
       "      <td>5</td>\n",
       "      <td>257.492053</td>\n",
       "      <td>2690119.0</td>\n",
       "      <td>1240932.0</td>\n",
       "      <td>2.690078e+06</td>\n",
       "      <td>1.240843e+06</td>\n",
       "    </tr>\n",
       "    <tr>\n",
       "      <th>6</th>\n",
       "      <td>6</td>\n",
       "      <td>17.951638</td>\n",
       "      <td>2678477.0</td>\n",
       "      <td>1240956.0</td>\n",
       "      <td>2.678440e+06</td>\n",
       "      <td>1.241082e+06</td>\n",
       "    </tr>\n",
       "    <tr>\n",
       "      <th>7</th>\n",
       "      <td>7</td>\n",
       "      <td>287.211395</td>\n",
       "      <td>2687505.0</td>\n",
       "      <td>1241029.0</td>\n",
       "      <td>2.687479e+06</td>\n",
       "      <td>1.241010e+06</td>\n",
       "    </tr>\n",
       "    <tr>\n",
       "      <th>8</th>\n",
       "      <td>8</td>\n",
       "      <td>301.748542</td>\n",
       "      <td>2681288.0</td>\n",
       "      <td>1241081.0</td>\n",
       "      <td>2.681338e+06</td>\n",
       "      <td>1.241135e+06</td>\n",
       "    </tr>\n",
       "    <tr>\n",
       "      <th>9</th>\n",
       "      <td>9</td>\n",
       "      <td>301.748542</td>\n",
       "      <td>2681268.0</td>\n",
       "      <td>1241111.0</td>\n",
       "      <td>2.681112e+06</td>\n",
       "      <td>1.241050e+06</td>\n",
       "    </tr>\n",
       "  </tbody>\n",
       "</table>\n",
       "</div>"
      ],
      "text/plain": [
       "   ID    accuracy          x          y         x_sim         y_sim\n",
       "0   0   65.617154  2678971.0  1240824.0  2.678872e+06  1.241000e+06\n",
       "1   1  257.492052  2679837.0  1240858.0  2.679613e+06  1.240965e+06\n",
       "2   2  163.533834  2687539.0  1240881.0  2.687497e+06  1.241049e+06\n",
       "3   3  185.000000  2674848.0  1240913.0  2.674818e+06  1.240775e+06\n",
       "4   4  228.215231  2681771.0  1240922.0  2.681765e+06  1.240570e+06\n",
       "5   5  257.492053  2690119.0  1240932.0  2.690078e+06  1.240843e+06\n",
       "6   6   17.951638  2678477.0  1240956.0  2.678440e+06  1.241082e+06\n",
       "7   7  287.211395  2687505.0  1241029.0  2.687479e+06  1.241010e+06\n",
       "8   8  301.748542  2681288.0  1241081.0  2.681338e+06  1.241135e+06\n",
       "9   9  301.748542  2681268.0  1241111.0  2.681112e+06  1.241050e+06"
      ]
     },
     "execution_count": 23,
     "metadata": {},
     "output_type": "execute_result"
    }
   ],
   "source": [
    "# Musterlösung\n",
    "\n",
    "zeckenstiche[\"x_sim\"] = zeckenstiche[\"x\"].apply(offset_coordinate)\n",
    "zeckenstiche[\"y_sim\"] = zeckenstiche[\"y\"].apply(offset_coordinate)\n",
    "\n",
    "zeckenstiche"
   ]
  },
  {
   "cell_type": "markdown",
   "metadata": {},
   "source": [
    "## Übung 4: Mehrere *DataFrames* visualisieren\n",
    "\n",
    "Um zwei *DataFrames* im gleichen Plot darzustellen, wird folgendermassen vorgegangen. Der erste Datensatz wird mit `.plot()` visualisiert, wobei der Output einer Variabel  (z.B. `basemap`)  zugewiesen wird. Danach wird der zweite Datensatz ebenfalls mit `.plot()` visualisiert, wobei auf den ersten Plot via dem Argument `ax` verwiesen wird."
   ]
  },
  {
   "cell_type": "code",
   "execution_count": 27,
   "metadata": {
    "tags": [
     "hide-input"
    ]
   },
   "outputs": [
    {
     "data": {
      "text/plain": [
       "<AxesSubplot:xlabel='x_sim', ylabel='y_sim'>"
      ]
     },
     "execution_count": 27,
     "metadata": {},
     "output_type": "execute_result"
    },
    {
     "data": {
      "image/png": "[encoded data removed]",
      "text/plain": [
       "<Figure size 432x288 with 1 Axes>"
      ]
     },
     "metadata": {
      "needs_background": "light"
     },
     "output_type": "display_data"
    }
   ],
   "source": [
    "%matplotlib inline # Könnt ihr ignorieren\n",
    "\n",
    "# Musterlösung\n",
    "\n",
    "basemap = zeckenstiche.plot.scatter(\"x\", \"y\", color = \"red\")\n",
    "zeckenstiche.plot.scatter(\"x_sim\", \"y_sim\", ax = basemap, color = \"blue\")"
   ]
  }
 ],
 "metadata": {
  "kernelspec": {
   "display_name": "Python 3",
   "language": "python",
   "name": "python3"
  },
  "language_info": {
   "codemirror_mode": {
    "name": "ipython",
    "version": 3
   },
   "file_extension": ".py",
   "mimetype": "text/x-python",
   "name": "python",
   "nbconvert_exporter": "python",
   "pygments_lexer": "ipython3",
   "version": "3.7.8"
  }
 },
 "nbformat": 4,
 "nbformat_minor": 4
}
